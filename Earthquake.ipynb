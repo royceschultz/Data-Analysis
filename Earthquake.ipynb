{
 "cells": [
  {
   "cell_type": "markdown",
   "metadata": {},
   "source": [
    "# Analysis of Earthquake Frequency\n",
    "By Royce Schultz"
   ]
  },
  {
   "cell_type": "markdown",
   "metadata": {},
   "source": [
    "## Abstract\n",
    "\n",
    "Even leading science is unable to accuratly predict earthquakes. Instead earthquakes can be treated as a random event. Luckily, statistics has many well understood tools to understand these events.\n",
    "\n",
    "## The exponential distribution\n",
    "\n",
    "\\begin{align}\n",
    "Marginal\\ Distribution = e^{-\\lambda x} \\\\\n",
    "Cumulative\\ Distribution = \\int MrgDist = 1 - e^{-\\lambda x}\n",
    "\\end{align}"
   ]
  },
  {
   "cell_type": "code",
   "execution_count": 1,
   "metadata": {},
   "outputs": [],
   "source": [
    "def exp_marginal_density(x, lamb): # The derivative of CDF\n",
    "    return lamb * np.exp(-lamb * x)\n",
    "\n",
    "def exp_cumulative_density(x, lamb): # The integral of MDF\n",
    "    return 1 - np.exp(-lamb * x)"
   ]
  },
  {
   "cell_type": "markdown",
   "metadata": {},
   "source": [
    "The exponential distribution is used to model events with a constant failure rate. That is, if the failure rate is F, 1/F events will 'fail' each timestep.\n",
    "\n",
    "\n",
    "\\begin{align}\n",
    "TODO: Define\\ and\\ prove\\ failure\\ rate \\\\\n",
    "\\end{align}\n",
    "\n"
   ]
  },
  {
   "cell_type": "markdown",
   "metadata": {},
   "source": [
    "The exponential distribution models the time **between** events, but it can be transformed to model the **number of events** in each timestep.\n",
    "\n",
    "## The Poisson Distribution"
   ]
  },
  {
   "cell_type": "code",
   "execution_count": 47,
   "metadata": {},
   "outputs": [],
   "source": [
    "def pois_marginal_density(k,lamb):\n",
    "    a = lamb**k\n",
    "    b = np.exp(-lamb)\n",
    "    c = np.zeros(len(k))\n",
    "    c = gamma(k+1)\n",
    "    return (a * b) / c\n",
    "\n",
    "def pois_cumulative_density(k,lamb,density): # Calculated numerically\n",
    "    s = 0\n",
    "    x = np.linspace(0,k,density)\n",
    "    dx = x[1]-x[0]\n",
    "    for i in x:\n",
    "        s+=pois_marginal_density(np.array([i]),lamb)*dx\n",
    "    return s"
   ]
  },
  {
   "cell_type": "markdown",
   "metadata": {},
   "source": [
    "## About the data\n",
    "\n",
    "The dataset is available on [Kaggle](https://www.kaggle.com/usgs/earthquake-database)\n",
    "\n",
    "The filtered set contains 23228 earthquakes from all over the world reported between 1965 and 2016. This set only contains significant earthquakes with a magnitude >5.5. There are **thousands** of small, unnoticable earthquakes every day that are not contained in this set."
   ]
  },
  {
   "cell_type": "markdown",
   "metadata": {},
   "source": [
    "| Magnitude | Effects | Estimated Number Each Year | \n",
    "|---|---|---|\n",
    "| <2.5 | Usually not felt, only recorded by seismograph. | 900,000 | \n",
    "| 2.5-5.4 | Often felt, but only minor damage | 30,000 | \n",
    "|  5.5-6.0 | Slight damage to buildings | 500 | \n",
    "|  6.1-6.9 | May cause lots of damage in populated areas | 100 | \n",
    "|  7.0-7.9 | Serious Damage | 20 | \n",
    "|  >8.0 | Can totally destroy communities | 1 every 5-10 years | \n",
    "\n",
    "[(Source, geo.mtu.edu)](http://www.geo.mtu.edu/UPSeis/magnitude.html)"
   ]
  },
  {
   "cell_type": "code",
   "execution_count": 3,
   "metadata": {},
   "outputs": [],
   "source": [
    "import pandas as pd\n",
    "import numpy as np\n",
    "import matplotlib.pyplot as plt\n",
    "import seaborn as sns\n",
    "from scipy.optimize import curve_fit\n",
    "from scipy.special import gamma\n",
    "\n",
    "from pandas.plotting import register_matplotlib_converters\n",
    "register_matplotlib_converters()"
   ]
  },
  {
   "cell_type": "code",
   "execution_count": 4,
   "metadata": {
    "scrolled": true
   },
   "outputs": [],
   "source": [
    "Fields = ['Date','Time','Latitude','Longitude','Type','Magnitude','Source'] # Only import used columns\n",
    "df = pd.read_csv('database.csv', usecols=Fields)"
   ]
  },
  {
   "cell_type": "code",
   "execution_count": 6,
   "metadata": {},
   "outputs": [],
   "source": [
    "# Cleaning\n",
    "df = df[df.Date.str.len() < 15] # Removes 3 rows with malformed dates\n",
    "df = df[df.Type.isin(['Earthquake'])] # removes nuclear explosions and rock bursts"
   ]
  },
  {
   "cell_type": "code",
   "execution_count": 7,
   "metadata": {
    "scrolled": false
   },
   "outputs": [
    {
     "data": {
      "text/html": [
       "<div>\n",
       "<style scoped>\n",
       "    .dataframe tbody tr th:only-of-type {\n",
       "        vertical-align: middle;\n",
       "    }\n",
       "\n",
       "    .dataframe tbody tr th {\n",
       "        vertical-align: top;\n",
       "    }\n",
       "\n",
       "    .dataframe thead th {\n",
       "        text-align: right;\n",
       "    }\n",
       "</style>\n",
       "<table border=\"1\" class=\"dataframe\">\n",
       "  <thead>\n",
       "    <tr style=\"text-align: right;\">\n",
       "      <th></th>\n",
       "      <th>Date</th>\n",
       "      <th>Time</th>\n",
       "      <th>Latitude</th>\n",
       "      <th>Longitude</th>\n",
       "      <th>Type</th>\n",
       "      <th>Magnitude</th>\n",
       "      <th>Source</th>\n",
       "      <th>Datetime</th>\n",
       "      <th>Year</th>\n",
       "      <th>Rounded_Magnitude</th>\n",
       "      <th>Last_Quake</th>\n",
       "      <th>Last_Quake_days</th>\n",
       "    </tr>\n",
       "  </thead>\n",
       "  <tbody>\n",
       "    <tr>\n",
       "      <th>0</th>\n",
       "      <td>01/04/1965</td>\n",
       "      <td>11:29:49</td>\n",
       "      <td>1.863</td>\n",
       "      <td>127.352</td>\n",
       "      <td>Earthquake</td>\n",
       "      <td>5.8</td>\n",
       "      <td>ISCGEM</td>\n",
       "      <td>1965-01-04 11:29:49</td>\n",
       "      <td>1965</td>\n",
       "      <td>5.5</td>\n",
       "      <td>1 days 21:45:31</td>\n",
       "      <td>1.906609</td>\n",
       "    </tr>\n",
       "    <tr>\n",
       "      <th>1</th>\n",
       "      <td>01/05/1965</td>\n",
       "      <td>18:05:58</td>\n",
       "      <td>-20.579</td>\n",
       "      <td>-173.972</td>\n",
       "      <td>Earthquake</td>\n",
       "      <td>6.2</td>\n",
       "      <td>ISCGEM</td>\n",
       "      <td>1965-01-05 18:05:58</td>\n",
       "      <td>1965</td>\n",
       "      <td>6.0</td>\n",
       "      <td>1 days 06:36:09</td>\n",
       "      <td>1.275104</td>\n",
       "    </tr>\n",
       "    <tr>\n",
       "      <th>2</th>\n",
       "      <td>01/08/1965</td>\n",
       "      <td>18:49:43</td>\n",
       "      <td>-59.076</td>\n",
       "      <td>-23.557</td>\n",
       "      <td>Earthquake</td>\n",
       "      <td>5.8</td>\n",
       "      <td>ISCGEM</td>\n",
       "      <td>1965-01-08 18:49:43</td>\n",
       "      <td>1965</td>\n",
       "      <td>5.5</td>\n",
       "      <td>3 days 00:43:45</td>\n",
       "      <td>3.030382</td>\n",
       "    </tr>\n",
       "    <tr>\n",
       "      <th>3</th>\n",
       "      <td>01/09/1965</td>\n",
       "      <td>13:32:50</td>\n",
       "      <td>11.938</td>\n",
       "      <td>126.427</td>\n",
       "      <td>Earthquake</td>\n",
       "      <td>5.8</td>\n",
       "      <td>ISCGEM</td>\n",
       "      <td>1965-01-09 13:32:50</td>\n",
       "      <td>1965</td>\n",
       "      <td>5.5</td>\n",
       "      <td>0 days 18:43:07</td>\n",
       "      <td>0.779942</td>\n",
       "    </tr>\n",
       "    <tr>\n",
       "      <th>4</th>\n",
       "      <td>01/10/1965</td>\n",
       "      <td>13:36:32</td>\n",
       "      <td>-13.405</td>\n",
       "      <td>166.629</td>\n",
       "      <td>Earthquake</td>\n",
       "      <td>6.7</td>\n",
       "      <td>ISCGEM</td>\n",
       "      <td>1965-01-10 13:36:32</td>\n",
       "      <td>1965</td>\n",
       "      <td>6.5</td>\n",
       "      <td>1 days 00:03:42</td>\n",
       "      <td>1.002569</td>\n",
       "    </tr>\n",
       "  </tbody>\n",
       "</table>\n",
       "</div>"
      ],
      "text/plain": [
       "         Date      Time  Latitude  Longitude        Type  Magnitude  Source  \\\n",
       "0  01/04/1965  11:29:49     1.863    127.352  Earthquake        5.8  ISCGEM   \n",
       "1  01/05/1965  18:05:58   -20.579   -173.972  Earthquake        6.2  ISCGEM   \n",
       "2  01/08/1965  18:49:43   -59.076    -23.557  Earthquake        5.8  ISCGEM   \n",
       "3  01/09/1965  13:32:50    11.938    126.427  Earthquake        5.8  ISCGEM   \n",
       "4  01/10/1965  13:36:32   -13.405    166.629  Earthquake        6.7  ISCGEM   \n",
       "\n",
       "             Datetime  Year  Rounded_Magnitude      Last_Quake  \\\n",
       "0 1965-01-04 11:29:49  1965                5.5 1 days 21:45:31   \n",
       "1 1965-01-05 18:05:58  1965                6.0 1 days 06:36:09   \n",
       "2 1965-01-08 18:49:43  1965                5.5 3 days 00:43:45   \n",
       "3 1965-01-09 13:32:50  1965                5.5 0 days 18:43:07   \n",
       "4 1965-01-10 13:36:32  1965                6.5 1 days 00:03:42   \n",
       "\n",
       "   Last_Quake_days  \n",
       "0         1.906609  \n",
       "1         1.275104  \n",
       "2         3.030382  \n",
       "3         0.779942  \n",
       "4         1.002569  "
      ]
     },
     "execution_count": 7,
     "metadata": {},
     "output_type": "execute_result"
    }
   ],
   "source": [
    "# Calculations\n",
    "df['Datetime'] = pd.to_datetime(df.Date +' '+ df.Time) #convert strings to datetime object\n",
    "df['Year'] = df['Datetime'].map(lambda x: x.year) #get year of datetime object for plotting\n",
    "\n",
    "#for grouping magnitudes\n",
    "df['Rounded_Magnitude'] = np.floor(df.Magnitude * 2) / 2 #scaling rounds to the nearest half instad of whole number.\n",
    "\n",
    "df['Last_Quake'] = df.Datetime.diff() #get frequency data\n",
    "df = df[df['Last_Quake'].notna()]\n",
    "df['Last_Quake_days'] = df['Last_Quake'].map(lambda x: x.total_seconds()/(24*60*60)) # Convert to days\n",
    "\n",
    "df.reset_index(drop=True, inplace=True)\n",
    "df.head()"
   ]
  },
  {
   "cell_type": "code",
   "execution_count": 8,
   "metadata": {},
   "outputs": [
    {
     "data": {
      "text/html": [
       "<div>\n",
       "<style scoped>\n",
       "    .dataframe tbody tr th:only-of-type {\n",
       "        vertical-align: middle;\n",
       "    }\n",
       "\n",
       "    .dataframe tbody tr th {\n",
       "        vertical-align: top;\n",
       "    }\n",
       "\n",
       "    .dataframe thead th {\n",
       "        text-align: right;\n",
       "    }\n",
       "</style>\n",
       "<table border=\"1\" class=\"dataframe\">\n",
       "  <thead>\n",
       "    <tr style=\"text-align: right;\">\n",
       "      <th></th>\n",
       "      <th>Latitude</th>\n",
       "      <th>Longitude</th>\n",
       "      <th>Magnitude</th>\n",
       "      <th>Year</th>\n",
       "      <th>Rounded_Magnitude</th>\n",
       "      <th>Last_Quake</th>\n",
       "      <th>Last_Quake_days</th>\n",
       "    </tr>\n",
       "  </thead>\n",
       "  <tbody>\n",
       "    <tr>\n",
       "      <th>count</th>\n",
       "      <td>23228.000000</td>\n",
       "      <td>23228.000000</td>\n",
       "      <td>23228.000000</td>\n",
       "      <td>23228.000000</td>\n",
       "      <td>23228.000000</td>\n",
       "      <td>23228</td>\n",
       "      <td>23228.000000</td>\n",
       "    </tr>\n",
       "    <tr>\n",
       "      <th>mean</th>\n",
       "      <td>1.385304</td>\n",
       "      <td>39.738244</td>\n",
       "      <td>5.882785</td>\n",
       "      <td>1992.719520</td>\n",
       "      <td>5.728194</td>\n",
       "      <td>0 days 19:37:17.121146</td>\n",
       "      <td>0.817559</td>\n",
       "    </tr>\n",
       "    <tr>\n",
       "      <th>std</th>\n",
       "      <td>29.929647</td>\n",
       "      <td>125.755664</td>\n",
       "      <td>0.424059</td>\n",
       "      <td>14.437895</td>\n",
       "      <td>0.402489</td>\n",
       "      <td>0 days 23:24:29.312558</td>\n",
       "      <td>0.975339</td>\n",
       "    </tr>\n",
       "    <tr>\n",
       "      <th>min</th>\n",
       "      <td>-77.080000</td>\n",
       "      <td>-179.997000</td>\n",
       "      <td>5.500000</td>\n",
       "      <td>1965.000000</td>\n",
       "      <td>5.500000</td>\n",
       "      <td>0 days 00:00:00</td>\n",
       "      <td>0.000000</td>\n",
       "    </tr>\n",
       "    <tr>\n",
       "      <th>25%</th>\n",
       "      <td>-18.719500</td>\n",
       "      <td>-76.384500</td>\n",
       "      <td>5.600000</td>\n",
       "      <td>1981.000000</td>\n",
       "      <td>5.500000</td>\n",
       "      <td>0 days 03:39:22</td>\n",
       "      <td>0.152338</td>\n",
       "    </tr>\n",
       "    <tr>\n",
       "      <th>50%</th>\n",
       "      <td>-3.684450</td>\n",
       "      <td>106.307500</td>\n",
       "      <td>5.700000</td>\n",
       "      <td>1994.000000</td>\n",
       "      <td>5.500000</td>\n",
       "      <td>0 days 11:42:44</td>\n",
       "      <td>0.488009</td>\n",
       "    </tr>\n",
       "    <tr>\n",
       "      <th>75%</th>\n",
       "      <td>24.968500</td>\n",
       "      <td>145.290250</td>\n",
       "      <td>6.000000</td>\n",
       "      <td>2005.000000</td>\n",
       "      <td>6.000000</td>\n",
       "      <td>1 days 03:07:29.500000</td>\n",
       "      <td>1.130203</td>\n",
       "    </tr>\n",
       "    <tr>\n",
       "      <th>max</th>\n",
       "      <td>86.005000</td>\n",
       "      <td>179.998000</td>\n",
       "      <td>9.100000</td>\n",
       "      <td>2016.000000</td>\n",
       "      <td>9.000000</td>\n",
       "      <td>10 days 05:30:13</td>\n",
       "      <td>10.229317</td>\n",
       "    </tr>\n",
       "  </tbody>\n",
       "</table>\n",
       "</div>"
      ],
      "text/plain": [
       "           Latitude     Longitude     Magnitude          Year  \\\n",
       "count  23228.000000  23228.000000  23228.000000  23228.000000   \n",
       "mean       1.385304     39.738244      5.882785   1992.719520   \n",
       "std       29.929647    125.755664      0.424059     14.437895   \n",
       "min      -77.080000   -179.997000      5.500000   1965.000000   \n",
       "25%      -18.719500    -76.384500      5.600000   1981.000000   \n",
       "50%       -3.684450    106.307500      5.700000   1994.000000   \n",
       "75%       24.968500    145.290250      6.000000   2005.000000   \n",
       "max       86.005000    179.998000      9.100000   2016.000000   \n",
       "\n",
       "       Rounded_Magnitude              Last_Quake  Last_Quake_days  \n",
       "count       23228.000000                   23228     23228.000000  \n",
       "mean            5.728194  0 days 19:37:17.121146         0.817559  \n",
       "std             0.402489  0 days 23:24:29.312558         0.975339  \n",
       "min             5.500000         0 days 00:00:00         0.000000  \n",
       "25%             5.500000         0 days 03:39:22         0.152338  \n",
       "50%             5.500000         0 days 11:42:44         0.488009  \n",
       "75%             6.000000  1 days 03:07:29.500000         1.130203  \n",
       "max             9.000000        10 days 05:30:13        10.229317  "
      ]
     },
     "execution_count": 8,
     "metadata": {},
     "output_type": "execute_result"
    }
   ],
   "source": [
    "df.describe()"
   ]
  },
  {
   "cell_type": "code",
   "execution_count": 9,
   "metadata": {},
   "outputs": [
    {
     "data": {
      "text/plain": [
       "23228"
      ]
     },
     "execution_count": 9,
     "metadata": {},
     "output_type": "execute_result"
    }
   ],
   "source": [
    "len(df)"
   ]
  },
  {
   "cell_type": "markdown",
   "metadata": {},
   "source": [
    "## Does the strength of an earthquake depend on the time since the last earthquake?\n",
    "\n",
    "**Hypothesis:** Assume the earth acts like a spring, constantly storing 'elastic' energy and releasing it in burst that we call earthquakes. Then big earthquakes are the result of a large buildup of energy. If an earthquake has not been recorded for a long time, the probability of a large quake is high."
   ]
  },
  {
   "cell_type": "code",
   "execution_count": 10,
   "metadata": {},
   "outputs": [
    {
     "data": {
      "image/png": "[encoded data removed]",
      "text/plain": [
       "<Figure size 432x288 with 1 Axes>"
      ]
     },
     "metadata": {
      "needs_background": "light"
     },
     "output_type": "display_data"
    }
   ],
   "source": [
    "plt.scatter(df.Last_Quake_days,df.Magnitude, alpha=0.5)\n",
    "\n",
    "plt.xlabel('Days since last quake')\n",
    "plt.ylabel('Magnitude')\n",
    "plt.show()"
   ]
  },
  {
   "cell_type": "markdown",
   "metadata": {},
   "source": [
    "## Big quakes are preceeded shortly by other quakes\n",
    "The hypothesis is **not supported**. In fact, the longer time without a quake, the higher probability that the next quake will be small.\n",
    "\n",
    "However, this graph does not account for other factors like location and therefore the hypothesis cannot be proved inncorrect."
   ]
  },
  {
   "cell_type": "markdown",
   "metadata": {},
   "source": [
    "## Fitting the data to the statistical Model"
   ]
  },
  {
   "cell_type": "code",
   "execution_count": 11,
   "metadata": {},
   "outputs": [
    {
     "data": {
      "text/plain": [
       "Text(0.5, 0, 'Time since last Quake (days)')"
      ]
     },
     "execution_count": 11,
     "metadata": {},
     "output_type": "execute_result"
    },
    {
     "data": {
      "image/png": "[encoded data removed]",
      "text/plain": [
       "<Figure size 432x288 with 1 Axes>"
      ]
     },
     "metadata": {
      "needs_background": "light"
     },
     "output_type": "display_data"
    }
   ],
   "source": [
    "(df[df.Last_Quake_days < 5].pivot(columns='Rounded_Magnitude')['Last_Quake_days']).plot(kind = 'hist', stacked=True,bins=40)\n",
    "\n",
    "plt.title('Stacked Barchart')\n",
    "plt.xlabel('Time since last Quake (days)')"
   ]
  },
  {
   "cell_type": "code",
   "execution_count": 12,
   "metadata": {},
   "outputs": [
    {
     "data": {
      "image/png": "[encoded data removed]",
      "text/plain": [
       "<Figure size 432x288 with 1 Axes>"
      ]
     },
     "metadata": {
      "needs_background": "light"
     },
     "output_type": "display_data"
    },
    {
     "data": {
      "image/png": "[encoded data removed]",
      "text/plain": [
       "<Figure size 432x288 with 1 Axes>"
      ]
     },
     "metadata": {
      "needs_background": "light"
     },
     "output_type": "display_data"
    }
   ],
   "source": [
    "density = 100 # Plot resolution\n",
    "# This is okay becuase data is so dense. When data is more sparce, other methods must be used.\n",
    "\n",
    "# Cumulative Distribution\n",
    "max_x = df.Last_Quake_days.max()\n",
    "x = np.linspace(0.1,.5*max_x,density) # x does not include 0 to avoid skewing data during derivative\n",
    "y = np.zeros(density)\n",
    "for i in range(density):\n",
    "    y[i] = len(df[df.Last_Quake_days < x[i]]) / len(df) # Count earthquakes less than tolerance, divide by size of list to get probability\n",
    "\n",
    "plt.scatter(x,y, alpha=0.5, label='Data') # Plot data\n",
    "\n",
    "popt, pcov = curve_fit(exp_cumulative_density, x, y) # Fit curve\n",
    "plt.plot(x, exp_cumulative_density(x, *popt), 'r-',label='Curve fit: Lambda=%5.3f' % tuple(popt)) # Plot fit curve\n",
    "global_lamb = popt[0]/2 # divide by 2 so we average with the next one in Marginal Dist\n",
    "\n",
    "plt.title('Exponential Cumulative density distribution')\n",
    "plt.xlabel('Days since last quake')\n",
    "plt.ylabel('Probability')\n",
    "plt.legend()\n",
    "\n",
    "#Marginal Distribution\n",
    "plt.figure() # New plot\n",
    "dx = np.diff(x)\n",
    "dy = np.diff(y)\n",
    "new_x = x[1:] # becuase np.diff()\n",
    "\n",
    "plt.scatter(new_x,dy/dx, alpha=0.5, label='Data') # Plot data\n",
    "\n",
    "popt, pcov = curve_fit(exp_marginal_density, new_x, dy/dx) # Fit curve\n",
    "plt.plot(new_x, exp_marginal_density(new_x, *popt), 'r-',label='Curve fit: Lambda=%5.3f' % tuple(popt)) # Plot fit curve\n",
    "global_lamb += popt[0]/2\n",
    "\n",
    "plt.title('Exponential Marginal density distribution')\n",
    "plt.xlabel('Days since last quake')\n",
    "plt.ylabel('Probability')\n",
    "plt.legend()\n",
    "\n",
    "plt.show()"
   ]
  },
  {
   "cell_type": "markdown",
   "metadata": {},
   "source": [
    "### Mean and Variance\n",
    "\n",
    "The exponential distribution has the propterty,\n",
    "\n",
    "\\begin{align}\n",
    "mean = \\frac{1}{\\lambda} \\\\\n",
    "variance = \\frac{1}{\\lambda}\n",
    "\\end{align}\n",
    "\n",
    "Using $\\lambda = avg(1.265,1.155) = 1.210$, **on average** earthquakes occour every 0.826 days. This closely agreees with the calculated mean of the dataset with small error."
   ]
  },
  {
   "cell_type": "code",
   "execution_count": 13,
   "metadata": {},
   "outputs": [
    {
     "name": "stdout",
     "output_type": "stream",
     "text": [
      "mean: 0.818, error 0.011\n"
     ]
    }
   ],
   "source": [
    "mean = df.Last_Quake_days.mean()\n",
    "error = abs(mean - (1/global_lamb))/ mean\n",
    "print('mean: %3.3f, error %3.3f' % (mean,error))"
   ]
  },
  {
   "cell_type": "markdown",
   "metadata": {},
   "source": [
    "### Probability of a week without a strong earthquake"
   ]
  },
  {
   "cell_type": "code",
   "execution_count": 14,
   "metadata": {},
   "outputs": [
    {
     "name": "stdout",
     "output_type": "stream",
     "text": [
      "P(Days >= 7) = 0.021 percent\n"
     ]
    }
   ],
   "source": [
    "print('P(Days >= 7) = %3.3f percent' %((1 - exp_cumulative_density(7,global_lamb))*100))"
   ]
  },
  {
   "cell_type": "markdown",
   "metadata": {},
   "source": [
    "## The Poisson Distribution\n",
    "\n",
    "Using the lambda from the exponential distribution fitting, the Poisson distribution can be easily calcualted."
   ]
  },
  {
   "cell_type": "code",
   "execution_count": 16,
   "metadata": {},
   "outputs": [
    {
     "data": {
      "text/plain": [
       "<matplotlib.legend.Legend at 0x1284a79b0>"
      ]
     },
     "execution_count": 16,
     "metadata": {},
     "output_type": "execute_result"
    },
    {
     "data": {
      "image/png": "[encoded data removed]",
      "text/plain": [
       "<Figure size 432x288 with 1 Axes>"
      ]
     },
     "metadata": {
      "needs_background": "light"
     },
     "output_type": "display_data"
    }
   ],
   "source": [
    "plt.plot([global_lamb,global_lamb],[0,.5], label='mean') # Mark mean\n",
    "plt.plot(x,pois_marginal_density(x,global_lamb),label = 'lambda=%3.3f'%(global_lamb))\n",
    "\n",
    "plt.title('Poisson Marginal Distribution')\n",
    "plt.xlabel('Earthquakes per Day')\n",
    "plt.ylabel('Probability')\n",
    "plt.legend()"
   ]
  },
  {
   "cell_type": "markdown",
   "metadata": {},
   "source": [
    "The Poisson distribution has the propterty,\n",
    "\n",
    "\\begin{align}\n",
    "mean = \\lambda \\\\\n",
    "variance = \\lambda\n",
    "\\end{align}\n",
    "\n",
    "So, **on average** earth will have 1.210 eathquakes **per day**."
   ]
  },
  {
   "cell_type": "markdown",
   "metadata": {},
   "source": [
    "### Probability of 1 or more quakes in a day"
   ]
  },
  {
   "cell_type": "code",
   "execution_count": 49,
   "metadata": {},
   "outputs": [
    {
     "name": "stdout",
     "output_type": "stream",
     "text": [
      "P(Quake > 1) = 63.687 percent\n"
     ]
    }
   ],
   "source": [
    "print('P(Quake > 1) = %3.3f percent' %((1 - pois_cumulative_density(1,global_lamb,50))*100))"
   ]
  },
  {
   "cell_type": "markdown",
   "metadata": {},
   "source": [
    "## Localizing the model\n",
    "\n",
    "Earthquakes are more common at intersections of tectonic plates. Filtering the data to a local area can help residents assess and prepare for earthquakes."
   ]
  },
  {
   "cell_type": "code",
   "execution_count": 17,
   "metadata": {},
   "outputs": [
    {
     "data": {
      "text/plain": [
       "<matplotlib.collections.PathCollection at 0x1285e9c18>"
      ]
     },
     "execution_count": 17,
     "metadata": {},
     "output_type": "execute_result"
    },
    {
     "data": {
      "image/png": "[encoded data removed]",
      "text/plain": [
       "<Figure size 432x288 with 1 Axes>"
      ]
     },
     "metadata": {
      "needs_background": "light"
     },
     "output_type": "display_data"
    }
   ],
   "source": [
    "plt.scatter(df.Longitude.values,df.Latitude.values, alpha=0.4, s=3*df.Magnitude.values)"
   ]
  },
  {
   "cell_type": "markdown",
   "metadata": {},
   "source": [
    "### Map of tectonic plates\n",
    "\n",
    "![Tectonic Plates Map](tectonic-plates.jpg)"
   ]
  },
  {
   "cell_type": "markdown",
   "metadata": {},
   "source": [
    "## Filtering by local distance\n",
    "\n",
    "### About the distance Funciton\n",
    "Subtracting latitude and longitude of a quake will not return the distance. The data will be skewed due to the same effect that makes Greenland appear nearly as large as Africa on a 2d map.\n",
    "\n",
    "Instead Lat/Long points define a point in spherical space and can be converted to an x,y,z triple in cartesian space. Then the euclidian distance between quakes and the reference point can be accuratly calculated.\n"
   ]
  },
  {
   "cell_type": "code",
   "execution_count": 18,
   "metadata": {},
   "outputs": [],
   "source": [
    "# Description:\n",
    "#   Determines Euclidian (straight line) between 2 points. Does not consider arc length, just straight distance\n",
    "#   Assumes earth is a sphere with radius=1\n",
    "#   So the poles are 2 units apart, the equator is sqrt(2) from each pole, not pi and pi/2 like it would be with arc distance\n",
    "# Input:\n",
    "#   Dataframe with Latitude and Longitude components\n",
    "#   2 arguments for Lat and Long of reference point\n",
    "# Output:\n",
    "#   Series containing distances to the reference point\n",
    "def distance_from(df, Lat, Long):\n",
    "    Lat = np.deg2rad(Lat) # Convert degrees to radians for numpy trig\n",
    "    Long = np.deg2rad(Long)\n",
    "    x_pos = np.cos(Lat)*np.sin(Long) # Convert spherical coordinates to cartesian\n",
    "    y_pos = np.cos(Lat)*np.cos(Long) # Assumes earths radius = 1\n",
    "    z_pos = np.sin(Lat)\n",
    "    \n",
    "    data_Latitude_rad = np.deg2rad(df.Latitude) # Convert dataframe to radians\n",
    "    data_Longitude_rad = np.deg2rad(df.Longitude)\n",
    "    data_x_pos = np.cos(data_Latitude_rad)*np.sin(data_Longitude_rad) # Convert to spherical\n",
    "    data_y_pos = np.cos(data_Latitude_rad)*np.cos(data_Longitude_rad)\n",
    "    data_z_pos = np.sin(data_Latitude_rad)\n",
    "    return ( (data_x_pos - x_pos)**2 + (data_y_pos - y_pos)**2 + (data_z_pos - z_pos)**2)**(1/2) # Pythagoras3D"
   ]
  },
  {
   "cell_type": "markdown",
   "metadata": {},
   "source": [
    "### Sampling some cities"
   ]
  },
  {
   "cell_type": "code",
   "execution_count": 19,
   "metadata": {},
   "outputs": [
    {
     "data": {
      "text/html": [
       "<div>\n",
       "<style scoped>\n",
       "    .dataframe tbody tr th:only-of-type {\n",
       "        vertical-align: middle;\n",
       "    }\n",
       "\n",
       "    .dataframe tbody tr th {\n",
       "        vertical-align: top;\n",
       "    }\n",
       "\n",
       "    .dataframe thead th {\n",
       "        text-align: right;\n",
       "    }\n",
       "</style>\n",
       "<table border=\"1\" class=\"dataframe\">\n",
       "  <thead>\n",
       "    <tr style=\"text-align: right;\">\n",
       "      <th></th>\n",
       "      <th>Date</th>\n",
       "      <th>Time</th>\n",
       "      <th>Latitude</th>\n",
       "      <th>Longitude</th>\n",
       "      <th>Type</th>\n",
       "      <th>Magnitude</th>\n",
       "      <th>Source</th>\n",
       "      <th>Datetime</th>\n",
       "      <th>Year</th>\n",
       "      <th>Rounded_Magnitude</th>\n",
       "      <th>Last_Quake</th>\n",
       "      <th>Last_Quake_days</th>\n",
       "      <th>Dist_Tokyo</th>\n",
       "      <th>Dist_San_Fran</th>\n",
       "      <th>Dist_Denver</th>\n",
       "    </tr>\n",
       "  </thead>\n",
       "  <tbody>\n",
       "    <tr>\n",
       "      <th>0</th>\n",
       "      <td>01/04/1965</td>\n",
       "      <td>11:29:49</td>\n",
       "      <td>1.863</td>\n",
       "      <td>127.352</td>\n",
       "      <td>Earthquake</td>\n",
       "      <td>5.8</td>\n",
       "      <td>ISCGEM</td>\n",
       "      <td>1965-01-04 11:29:49</td>\n",
       "      <td>1965</td>\n",
       "      <td>5.5</td>\n",
       "      <td>1 days 21:45:31</td>\n",
       "      <td>1.906609</td>\n",
       "      <td>0.612724</td>\n",
       "      <td>1.583197</td>\n",
       "      <td>1.702209</td>\n",
       "    </tr>\n",
       "    <tr>\n",
       "      <th>1</th>\n",
       "      <td>01/05/1965</td>\n",
       "      <td>18:05:58</td>\n",
       "      <td>-20.579</td>\n",
       "      <td>-173.972</td>\n",
       "      <td>Earthquake</td>\n",
       "      <td>6.2</td>\n",
       "      <td>ISCGEM</td>\n",
       "      <td>1965-01-05 18:05:58</td>\n",
       "      <td>1965</td>\n",
       "      <td>6.0</td>\n",
       "      <td>1 days 06:36:09</td>\n",
       "      <td>1.275104</td>\n",
       "      <td>1.166416</td>\n",
       "      <td>1.228930</td>\n",
       "      <td>1.390338</td>\n",
       "    </tr>\n",
       "    <tr>\n",
       "      <th>2</th>\n",
       "      <td>01/08/1965</td>\n",
       "      <td>18:49:43</td>\n",
       "      <td>-59.076</td>\n",
       "      <td>-23.557</td>\n",
       "      <td>Earthquake</td>\n",
       "      <td>5.8</td>\n",
       "      <td>ISCGEM</td>\n",
       "      <td>1965-01-08 18:49:43</td>\n",
       "      <td>1965</td>\n",
       "      <td>5.5</td>\n",
       "      <td>3 days 00:43:45</td>\n",
       "      <td>3.030382</td>\n",
       "      <td>1.949312</td>\n",
       "      <td>1.782142</td>\n",
       "      <td>1.726013</td>\n",
       "    </tr>\n",
       "    <tr>\n",
       "      <th>3</th>\n",
       "      <td>01/09/1965</td>\n",
       "      <td>13:32:50</td>\n",
       "      <td>11.938</td>\n",
       "      <td>126.427</td>\n",
       "      <td>Earthquake</td>\n",
       "      <td>5.8</td>\n",
       "      <td>ISCGEM</td>\n",
       "      <td>1965-01-09 13:32:50</td>\n",
       "      <td>1965</td>\n",
       "      <td>5.5</td>\n",
       "      <td>0 days 18:43:07</td>\n",
       "      <td>0.779942</td>\n",
       "      <td>0.459641</td>\n",
       "      <td>1.518147</td>\n",
       "      <td>1.635202</td>\n",
       "    </tr>\n",
       "    <tr>\n",
       "      <th>4</th>\n",
       "      <td>01/10/1965</td>\n",
       "      <td>13:36:32</td>\n",
       "      <td>-13.405</td>\n",
       "      <td>166.629</td>\n",
       "      <td>Earthquake</td>\n",
       "      <td>6.7</td>\n",
       "      <td>ISCGEM</td>\n",
       "      <td>1965-01-10 13:36:32</td>\n",
       "      <td>1965</td>\n",
       "      <td>6.5</td>\n",
       "      <td>1 days 00:03:42</td>\n",
       "      <td>1.002569</td>\n",
       "      <td>0.928365</td>\n",
       "      <td>1.334940</td>\n",
       "      <td>1.501385</td>\n",
       "    </tr>\n",
       "  </tbody>\n",
       "</table>\n",
       "</div>"
      ],
      "text/plain": [
       "         Date      Time  Latitude  Longitude        Type  Magnitude  Source  \\\n",
       "0  01/04/1965  11:29:49     1.863    127.352  Earthquake        5.8  ISCGEM   \n",
       "1  01/05/1965  18:05:58   -20.579   -173.972  Earthquake        6.2  ISCGEM   \n",
       "2  01/08/1965  18:49:43   -59.076    -23.557  Earthquake        5.8  ISCGEM   \n",
       "3  01/09/1965  13:32:50    11.938    126.427  Earthquake        5.8  ISCGEM   \n",
       "4  01/10/1965  13:36:32   -13.405    166.629  Earthquake        6.7  ISCGEM   \n",
       "\n",
       "             Datetime  Year  Rounded_Magnitude      Last_Quake  \\\n",
       "0 1965-01-04 11:29:49  1965                5.5 1 days 21:45:31   \n",
       "1 1965-01-05 18:05:58  1965                6.0 1 days 06:36:09   \n",
       "2 1965-01-08 18:49:43  1965                5.5 3 days 00:43:45   \n",
       "3 1965-01-09 13:32:50  1965                5.5 0 days 18:43:07   \n",
       "4 1965-01-10 13:36:32  1965                6.5 1 days 00:03:42   \n",
       "\n",
       "   Last_Quake_days  Dist_Tokyo  Dist_San_Fran  Dist_Denver  \n",
       "0         1.906609    0.612724       1.583197     1.702209  \n",
       "1         1.275104    1.166416       1.228930     1.390338  \n",
       "2         3.030382    1.949312       1.782142     1.726013  \n",
       "3         0.779942    0.459641       1.518147     1.635202  \n",
       "4         1.002569    0.928365       1.334940     1.501385  "
      ]
     },
     "execution_count": 19,
     "metadata": {},
     "output_type": "execute_result"
    }
   ],
   "source": [
    "Tokyo = [35.67,139.65]\n",
    "San_Fran = [37.77,-122.42]\n",
    "Denver = [39.74,-104.99]\n",
    "\n",
    "df['Dist_Tokyo'] = distance_from(df,Tokyo[0],Tokyo[1])\n",
    "df['Dist_San_Fran'] = distance_from(df,San_Fran[0],San_Fran[1])\n",
    "df['Dist_Denver'] = distance_from(df,Denver[0],Denver[1])\n",
    "\n",
    "df.reset_index(drop=True, inplace=True)\n",
    "\n",
    "df.head()"
   ]
  },
  {
   "cell_type": "markdown",
   "metadata": {},
   "source": [
    "### How far away can you feel a strong quake?\n",
    "The [US Geological Program (USGS)](https://earthquake.usgs.gov/learn/topics/mag-intensity/) cites that even somewhat large earhquakes dissapate quickly over an area. The tremors can hardly be felt more than just 100km or about 1 degree away.\n",
    "\n",
    "![Quake Strength Map](Quake_Strength_Heatmap.jpg)\n",
    "\n",
    "There are clearly other factors to consider before estimating damages. Soil composition can affect energy dissapation and other secondary effects like tsunamis can cause significant damage from greater distances."
   ]
  },
  {
   "cell_type": "markdown",
   "metadata": {},
   "source": [
    "### Calculating the local distance threshold"
   ]
  },
  {
   "cell_type": "markdown",
   "metadata": {},
   "source": [
    "More precicely, 100km == 0.899 deg, but lets round up to 1 degree"
   ]
  },
  {
   "cell_type": "code",
   "execution_count": 20,
   "metadata": {},
   "outputs": [
    {
     "name": "stdout",
     "output_type": "stream",
     "text": [
      "0.8997777548945409\n"
     ]
    }
   ],
   "source": [
    "# Uses the radius of the earth to calculate the arc of 100 km\n",
    "\n",
    "earth_radius = 6371 # kilometers\n",
    "earth_circumfrence = earth_radius * 3.14 * 2\n",
    "km_per_deg = earth_circumfrence / 360\n",
    "print(100/km_per_deg)"
   ]
  },
  {
   "cell_type": "markdown",
   "metadata": {},
   "source": [
    "1 degree maps to 0.017 in the distance space."
   ]
  },
  {
   "cell_type": "code",
   "execution_count": 21,
   "metadata": {},
   "outputs": [
    {
     "data": {
      "text/plain": [
       "0    0.017453\n",
       "dtype: float64"
      ]
     },
     "execution_count": 21,
     "metadata": {},
     "output_type": "execute_result"
    }
   ],
   "source": [
    "# Calculates distance between Lat/Long points (0,0) and (0,1)\n",
    "\n",
    "q = pd.DataFrame.from_dict({'Latitude': [0], 'Longitude': [0]})\n",
    "distance_from(q,0,1)"
   ]
  },
  {
   "cell_type": "markdown",
   "metadata": {},
   "source": [
    "For reference, the distance between San Francisco and Los Angeles is 0.088"
   ]
  },
  {
   "cell_type": "code",
   "execution_count": 22,
   "metadata": {},
   "outputs": [
    {
     "data": {
      "text/plain": [
       "0    0.08774\n",
       "dtype: float64"
      ]
     },
     "execution_count": 22,
     "metadata": {},
     "output_type": "execute_result"
    }
   ],
   "source": [
    "# Calculate the distance (in the arbitrary distance space) between SF and LA\n",
    "q = pd.DataFrame.from_dict({'Latitude': [San_Fran[0]], 'Longitude': [San_Fran[1]]})\n",
    "distance_from(q,34.05,-118.24) # Distance to LA"
   ]
  },
  {
   "cell_type": "markdown",
   "metadata": {},
   "source": [
    "## Comparing the frequency of earthquakes in 3 large cities."
   ]
  },
  {
   "cell_type": "code",
   "execution_count": 23,
   "metadata": {},
   "outputs": [
    {
     "data": {
      "text/plain": [
       "Text(0.5, 1.0, 'Large earthquakes per year (avg)')"
      ]
     },
     "execution_count": 23,
     "metadata": {},
     "output_type": "execute_result"
    },
    {
     "data": {
      "image/png": "[encoded data removed]",
      "text/plain": [
       "<Figure size 432x288 with 1 Axes>"
      ]
     },
     "metadata": {
      "needs_background": "light"
     },
     "output_type": "display_data"
    }
   ],
   "source": [
    "Local_Dist = .017\n",
    "years = 2016-1965\n",
    "\n",
    "Denver_Local_Counts = df[df.Dist_Denver < Local_Dist].Rounded_Magnitude.value_counts() / years\n",
    "San_Fran_Local_Counts = df[df.Dist_San_Fran < Local_Dist].Rounded_Magnitude.value_counts() / years\n",
    "Tokyo_Local_Counts = df[df.Dist_Tokyo < Local_Dist].Rounded_Magnitude.value_counts() / years\n",
    "\n",
    "counts = pd.concat({'Denver':Denver_Local_Counts, 'San_Fran':San_Fran_Local_Counts, 'Tokyo':Tokyo_Local_Counts}, axis = 1).fillna(0)\n",
    "counts.transpose().plot(kind='bar',stacked=True)\n",
    "\n",
    "plt.title('Large earthquakes per year (avg)')\n"
   ]
  },
  {
   "cell_type": "markdown",
   "metadata": {},
   "source": [
    "### Earthquake frequency in Tokyo"
   ]
  },
  {
   "cell_type": "code",
   "execution_count": 24,
   "metadata": {},
   "outputs": [
    {
     "name": "stderr",
     "output_type": "stream",
     "text": [
      "/usr/local/lib/python3.7/site-packages/ipykernel_launcher.py:5: SettingWithCopyWarning: \n",
      "A value is trying to be set on a copy of a slice from a DataFrame.\n",
      "Try using .loc[row_indexer,col_indexer] = value instead\n",
      "\n",
      "See the caveats in the documentation: http://pandas.pydata.org/pandas-docs/stable/indexing.html#indexing-view-versus-copy\n",
      "  \"\"\"\n"
     ]
    },
    {
     "data": {
      "text/html": [
       "<div>\n",
       "<style scoped>\n",
       "    .dataframe tbody tr th:only-of-type {\n",
       "        vertical-align: middle;\n",
       "    }\n",
       "\n",
       "    .dataframe tbody tr th {\n",
       "        vertical-align: top;\n",
       "    }\n",
       "\n",
       "    .dataframe thead th {\n",
       "        text-align: right;\n",
       "    }\n",
       "</style>\n",
       "<table border=\"1\" class=\"dataframe\">\n",
       "  <thead>\n",
       "    <tr style=\"text-align: right;\">\n",
       "      <th></th>\n",
       "      <th>Date</th>\n",
       "      <th>Time</th>\n",
       "      <th>Latitude</th>\n",
       "      <th>Longitude</th>\n",
       "      <th>Type</th>\n",
       "      <th>Magnitude</th>\n",
       "      <th>Source</th>\n",
       "      <th>Datetime</th>\n",
       "      <th>Year</th>\n",
       "      <th>Rounded_Magnitude</th>\n",
       "      <th>Last_Quake</th>\n",
       "      <th>Last_Quake_days</th>\n",
       "      <th>Dist_Tokyo</th>\n",
       "      <th>Dist_San_Fran</th>\n",
       "      <th>Dist_Denver</th>\n",
       "      <th>Last_Quake_years</th>\n",
       "    </tr>\n",
       "  </thead>\n",
       "  <tbody>\n",
       "    <tr>\n",
       "      <th>0</th>\n",
       "      <td>09/15/1967</td>\n",
       "      <td>00:28:39</td>\n",
       "      <td>35.607</td>\n",
       "      <td>140.738</td>\n",
       "      <td>Earthquake</td>\n",
       "      <td>5.8</td>\n",
       "      <td>ISCGEM</td>\n",
       "      <td>1967-09-15 00:28:39</td>\n",
       "      <td>1967</td>\n",
       "      <td>5.5</td>\n",
       "      <td>891 days 18:56:40</td>\n",
       "      <td>1.241238</td>\n",
       "      <td>0.015472</td>\n",
       "      <td>1.199964</td>\n",
       "      <td>1.330245</td>\n",
       "      <td>2.443258</td>\n",
       "    </tr>\n",
       "    <tr>\n",
       "      <th>1</th>\n",
       "      <td>07/01/1968</td>\n",
       "      <td>10:45:12</td>\n",
       "      <td>35.999</td>\n",
       "      <td>139.348</td>\n",
       "      <td>Earthquake</td>\n",
       "      <td>6.1</td>\n",
       "      <td>ISCGEM</td>\n",
       "      <td>1968-07-01 10:45:12</td>\n",
       "      <td>1968</td>\n",
       "      <td>6.0</td>\n",
       "      <td>290 days 10:16:33</td>\n",
       "      <td>4.794919</td>\n",
       "      <td>0.007158</td>\n",
       "      <td>1.209596</td>\n",
       "      <td>1.336895</td>\n",
       "      <td>0.795694</td>\n",
       "    </tr>\n",
       "    <tr>\n",
       "      <th>2</th>\n",
       "      <td>07/22/1971</td>\n",
       "      <td>22:07:21</td>\n",
       "      <td>35.518</td>\n",
       "      <td>138.976</td>\n",
       "      <td>Earthquake</td>\n",
       "      <td>5.6</td>\n",
       "      <td>ISCGEM</td>\n",
       "      <td>1971-07-22 22:07:21</td>\n",
       "      <td>1971</td>\n",
       "      <td>5.5</td>\n",
       "      <td>1116 days 11:22:09</td>\n",
       "      <td>1.419352</td>\n",
       "      <td>0.009927</td>\n",
       "      <td>1.216899</td>\n",
       "      <td>1.344091</td>\n",
       "      <td>3.058832</td>\n",
       "    </tr>\n",
       "    <tr>\n",
       "      <th>3</th>\n",
       "      <td>09/30/1973</td>\n",
       "      <td>06:17:53</td>\n",
       "      <td>35.606</td>\n",
       "      <td>140.447</td>\n",
       "      <td>Earthquake</td>\n",
       "      <td>5.9</td>\n",
       "      <td>US</td>\n",
       "      <td>1973-09-30 06:17:53</td>\n",
       "      <td>1973</td>\n",
       "      <td>5.5</td>\n",
       "      <td>800 days 08:10:32</td>\n",
       "      <td>0.695035</td>\n",
       "      <td>0.011360</td>\n",
       "      <td>1.202669</td>\n",
       "      <td>1.332426</td>\n",
       "      <td>2.192714</td>\n",
       "    </tr>\n",
       "    <tr>\n",
       "      <th>4</th>\n",
       "      <td>10/01/1973</td>\n",
       "      <td>14:16:23</td>\n",
       "      <td>35.716</td>\n",
       "      <td>140.561</td>\n",
       "      <td>Earthquake</td>\n",
       "      <td>5.6</td>\n",
       "      <td>US</td>\n",
       "      <td>1973-10-01 14:16:23</td>\n",
       "      <td>1973</td>\n",
       "      <td>5.5</td>\n",
       "      <td>1 days 07:58:30</td>\n",
       "      <td>1.332292</td>\n",
       "      <td>0.012938</td>\n",
       "      <td>1.200728</td>\n",
       "      <td>1.330559</td>\n",
       "      <td>0.003650</td>\n",
       "    </tr>\n",
       "  </tbody>\n",
       "</table>\n",
       "</div>"
      ],
      "text/plain": [
       "         Date      Time  Latitude  Longitude        Type  Magnitude  Source  \\\n",
       "0  09/15/1967  00:28:39    35.607    140.738  Earthquake        5.8  ISCGEM   \n",
       "1  07/01/1968  10:45:12    35.999    139.348  Earthquake        6.1  ISCGEM   \n",
       "2  07/22/1971  22:07:21    35.518    138.976  Earthquake        5.6  ISCGEM   \n",
       "3  09/30/1973  06:17:53    35.606    140.447  Earthquake        5.9      US   \n",
       "4  10/01/1973  14:16:23    35.716    140.561  Earthquake        5.6      US   \n",
       "\n",
       "             Datetime  Year  Rounded_Magnitude         Last_Quake  \\\n",
       "0 1967-09-15 00:28:39  1967                5.5  891 days 18:56:40   \n",
       "1 1968-07-01 10:45:12  1968                6.0  290 days 10:16:33   \n",
       "2 1971-07-22 22:07:21  1971                5.5 1116 days 11:22:09   \n",
       "3 1973-09-30 06:17:53  1973                5.5  800 days 08:10:32   \n",
       "4 1973-10-01 14:16:23  1973                5.5    1 days 07:58:30   \n",
       "\n",
       "   Last_Quake_days  Dist_Tokyo  Dist_San_Fran  Dist_Denver  Last_Quake_years  \n",
       "0         1.241238    0.015472       1.199964     1.330245          2.443258  \n",
       "1         4.794919    0.007158       1.209596     1.336895          0.795694  \n",
       "2         1.419352    0.009927       1.216899     1.344091          3.058832  \n",
       "3         0.695035    0.011360       1.202669     1.332426          2.192714  \n",
       "4         1.332292    0.012938       1.200728     1.330559          0.003650  "
      ]
     },
     "execution_count": 24,
     "metadata": {},
     "output_type": "execute_result"
    }
   ],
   "source": [
    "tokyo_df = df[df.Dist_Tokyo < Local_Dist]\n",
    "\n",
    "# Calculations\n",
    "\n",
    "tokyo_df['Last_Quake'] = tokyo_df.Datetime.diff()\n",
    "tokyo_df = tokyo_df[tokyo_df['Last_Quake'].notna()]\n",
    "tokyo_df['Last_Quake_years'] = tokyo_df['Last_Quake'].map(lambda x: x.total_seconds()/(365*24*60*60)) # Last Quake (s)\n",
    "\n",
    "tokyo_df.reset_index(drop=True, inplace=True)\n",
    "\n",
    "tokyo_df.head()"
   ]
  },
  {
   "cell_type": "code",
   "execution_count": 30,
   "metadata": {},
   "outputs": [
    {
     "data": {
      "image/png": "[encoded data removed]",
      "text/plain": [
       "<Figure size 432x288 with 1 Axes>"
      ]
     },
     "metadata": {
      "needs_background": "light"
     },
     "output_type": "display_data"
    },
    {
     "data": {
      "image/png": "[encoded data removed]",
      "text/plain": [
       "<Figure size 432x288 with 1 Axes>"
      ]
     },
     "metadata": {
      "needs_background": "light"
     },
     "output_type": "display_data"
    }
   ],
   "source": [
    "# Cumulative Distribution\n",
    "max_x = tokyo_df.Last_Quake_years.max()\n",
    "x = np.array(sorted(tokyo_df.Last_Quake_years.values))\n",
    "y = np.arange(1,len(tokyo_df)+1)/len(tokyo_df)\n",
    "\n",
    "plt.scatter(x,y, alpha=0.5, label='Data') # Plot data\n",
    "\n",
    "popt, pcov = curve_fit(exp_cumulative_density, x, y) # Fit curve\n",
    "plt.plot(x, exp_cumulative_density(x, *popt), 'r-',label='Curve fit: Lambda=%5.3f' % tuple(popt)) # Plot fit curve\n",
    "tokyo_lamb = popt[0]\n",
    "\n",
    "plt.title('Exponential Cumulative density distribution')\n",
    "plt.xlabel('Years since last quake')\n",
    "plt.ylabel('Probability')\n",
    "plt.legend()\n",
    "\n",
    "\n",
    "#Marginal Distribution\n",
    "plt.figure() # New plot\n",
    "dx = np.diff(x)\n",
    "dy = np.diff(y)\n",
    "new_x = x[1:] # becuase np.diff()\n",
    "\n",
    "plt.scatter(new_x,dy/dx, alpha=0.5, label='Data') # Plot data\n",
    "\n",
    "popt, pcov = curve_fit(exp_marginal_density, new_x, dy/dx) # Fit curve\n",
    "plt.plot(new_x, exp_marginal_density(new_x, *popt), 'r-',label='Curve fit: Lambda=%5.3f' % tuple(popt)) # Plot fit curve\n",
    "# lamb += popt[0]/2 OVERRIDE. Interpolation isnt good. use Cumulative value\n",
    "\n",
    "plt.title('Exponential Marginal density distribution')\n",
    "plt.xlabel('Years since last quake')\n",
    "plt.ylabel('Probability')\n",
    "plt.legend()\n",
    "\n",
    "plt.show()"
   ]
  },
  {
   "cell_type": "code",
   "execution_count": 29,
   "metadata": {},
   "outputs": [
    {
     "data": {
      "text/plain": [
       "55"
      ]
     },
     "execution_count": 29,
     "metadata": {},
     "output_type": "execute_result"
    }
   ],
   "source": [
    "len(tokyo_df)"
   ]
  },
  {
   "cell_type": "markdown",
   "metadata": {},
   "source": [
    "#### Fit and numerical Error\n",
    "\n",
    "The data subset includes only 55 data points. Additionally, the marginal distribution is caluclated using a first order numerical approcimation. While the cumulative distribution has some significant apperent error, the lambda from the cumulative distribution will be used in the following calculations."
   ]
  },
  {
   "cell_type": "code",
   "execution_count": 28,
   "metadata": {},
   "outputs": [
    {
     "data": {
      "text/plain": [
       "<matplotlib.legend.Legend at 0x12834bf98>"
      ]
     },
     "execution_count": 28,
     "metadata": {},
     "output_type": "execute_result"
    },
    {
     "data": {
      "image/png": "[encoded data removed]",
      "text/plain": [
       "<Figure size 432x288 with 1 Axes>"
      ]
     },
     "metadata": {
      "needs_background": "light"
     },
     "output_type": "display_data"
    }
   ],
   "source": [
    "plt.plot([tokyo_lamb,tokyo_lamb],[0,.5], label='mean') # Mark mean\n",
    "plt.plot(x,pois_marginal_density(x,tokyo_lamb),label = 'lambda=%3.3f'%(tokyo_lamb))\n",
    "\n",
    "plt.title('Poisson Marginal Distribution')\n",
    "plt.xlabel('Earthquakes per year')\n",
    "plt.ylabel('Probability')\n",
    "plt.legend()"
   ]
  },
  {
   "cell_type": "markdown",
   "metadata": {},
   "source": [
    "#### Tokyo Conclusions\n",
    "\n",
    "Using the properties of Poisson distributions, Tokyo has on average **nearly 2 large earthquakes per year.** The ancient, coastal city has been built from the ground up with the danger of earthquakes in mind. Traditionally, buildings in Tokyo were made of wood becuase the wood flexes during earthquakes instead of crumbling like bricks or concrete. However, wood building cause other forms of danger. In 1923, a **8.3** magnitude earthquake hit Tokyo. A fire had broken out in one of the wooden buildings and quickly spread throughout the city killing 142,000 people, more than the earthquake itself. ([source](https://historycollection.co/day-history-great-tokyo-fire-devastates-city-1923/))\n",
    "\n",
    "Modern structures in Tokyo use elaborate damping methods to dissapate energy as it travels through the building.\n",
    "\n",
    "![Dampers](damper.jpg)\n",
    "\n",
    "Other solutions completely isolate the building from the ground by sitting on rollers.\n",
    "\n",
    "![Rollers](rollers.jpg)"
   ]
  },
  {
   "cell_type": "markdown",
   "metadata": {},
   "source": [
    "### San Francisco"
   ]
  },
  {
   "cell_type": "code",
   "execution_count": 31,
   "metadata": {
    "scrolled": true
   },
   "outputs": [
    {
     "name": "stderr",
     "output_type": "stream",
     "text": [
      "/usr/local/lib/python3.7/site-packages/ipykernel_launcher.py:5: SettingWithCopyWarning: \n",
      "A value is trying to be set on a copy of a slice from a DataFrame.\n",
      "Try using .loc[row_indexer,col_indexer] = value instead\n",
      "\n",
      "See the caveats in the documentation: http://pandas.pydata.org/pandas-docs/stable/indexing.html#indexing-view-versus-copy\n",
      "  \"\"\"\n"
     ]
    },
    {
     "data": {
      "text/html": [
       "<div>\n",
       "<style scoped>\n",
       "    .dataframe tbody tr th:only-of-type {\n",
       "        vertical-align: middle;\n",
       "    }\n",
       "\n",
       "    .dataframe tbody tr th {\n",
       "        vertical-align: top;\n",
       "    }\n",
       "\n",
       "    .dataframe thead th {\n",
       "        text-align: right;\n",
       "    }\n",
       "</style>\n",
       "<table border=\"1\" class=\"dataframe\">\n",
       "  <thead>\n",
       "    <tr style=\"text-align: right;\">\n",
       "      <th></th>\n",
       "      <th>Date</th>\n",
       "      <th>Time</th>\n",
       "      <th>Latitude</th>\n",
       "      <th>Longitude</th>\n",
       "      <th>Type</th>\n",
       "      <th>Magnitude</th>\n",
       "      <th>Source</th>\n",
       "      <th>Datetime</th>\n",
       "      <th>Year</th>\n",
       "      <th>Rounded_Magnitude</th>\n",
       "      <th>Last_Quake</th>\n",
       "      <th>Last_Quake_days</th>\n",
       "      <th>Dist_Tokyo</th>\n",
       "      <th>Dist_San_Fran</th>\n",
       "      <th>Dist_Denver</th>\n",
       "      <th>Last_Quake_years</th>\n",
       "    </tr>\n",
       "  </thead>\n",
       "  <tbody>\n",
       "    <tr>\n",
       "      <th>0</th>\n",
       "      <td>09/15/1967</td>\n",
       "      <td>00:28:39</td>\n",
       "      <td>35.607</td>\n",
       "      <td>140.738</td>\n",
       "      <td>Earthquake</td>\n",
       "      <td>5.8</td>\n",
       "      <td>ISCGEM</td>\n",
       "      <td>1967-09-15 00:28:39</td>\n",
       "      <td>1967</td>\n",
       "      <td>5.5</td>\n",
       "      <td>891 days 18:56:40</td>\n",
       "      <td>1.241238</td>\n",
       "      <td>0.015472</td>\n",
       "      <td>1.199964</td>\n",
       "      <td>1.330245</td>\n",
       "      <td>2.443258</td>\n",
       "    </tr>\n",
       "    <tr>\n",
       "      <th>1</th>\n",
       "      <td>07/01/1968</td>\n",
       "      <td>10:45:12</td>\n",
       "      <td>35.999</td>\n",
       "      <td>139.348</td>\n",
       "      <td>Earthquake</td>\n",
       "      <td>6.1</td>\n",
       "      <td>ISCGEM</td>\n",
       "      <td>1968-07-01 10:45:12</td>\n",
       "      <td>1968</td>\n",
       "      <td>6.0</td>\n",
       "      <td>290 days 10:16:33</td>\n",
       "      <td>4.794919</td>\n",
       "      <td>0.007158</td>\n",
       "      <td>1.209596</td>\n",
       "      <td>1.336895</td>\n",
       "      <td>0.795694</td>\n",
       "    </tr>\n",
       "    <tr>\n",
       "      <th>2</th>\n",
       "      <td>07/22/1971</td>\n",
       "      <td>22:07:21</td>\n",
       "      <td>35.518</td>\n",
       "      <td>138.976</td>\n",
       "      <td>Earthquake</td>\n",
       "      <td>5.6</td>\n",
       "      <td>ISCGEM</td>\n",
       "      <td>1971-07-22 22:07:21</td>\n",
       "      <td>1971</td>\n",
       "      <td>5.5</td>\n",
       "      <td>1116 days 11:22:09</td>\n",
       "      <td>1.419352</td>\n",
       "      <td>0.009927</td>\n",
       "      <td>1.216899</td>\n",
       "      <td>1.344091</td>\n",
       "      <td>3.058832</td>\n",
       "    </tr>\n",
       "    <tr>\n",
       "      <th>3</th>\n",
       "      <td>09/30/1973</td>\n",
       "      <td>06:17:53</td>\n",
       "      <td>35.606</td>\n",
       "      <td>140.447</td>\n",
       "      <td>Earthquake</td>\n",
       "      <td>5.9</td>\n",
       "      <td>US</td>\n",
       "      <td>1973-09-30 06:17:53</td>\n",
       "      <td>1973</td>\n",
       "      <td>5.5</td>\n",
       "      <td>800 days 08:10:32</td>\n",
       "      <td>0.695035</td>\n",
       "      <td>0.011360</td>\n",
       "      <td>1.202669</td>\n",
       "      <td>1.332426</td>\n",
       "      <td>2.192714</td>\n",
       "    </tr>\n",
       "    <tr>\n",
       "      <th>4</th>\n",
       "      <td>10/01/1973</td>\n",
       "      <td>14:16:23</td>\n",
       "      <td>35.716</td>\n",
       "      <td>140.561</td>\n",
       "      <td>Earthquake</td>\n",
       "      <td>5.6</td>\n",
       "      <td>US</td>\n",
       "      <td>1973-10-01 14:16:23</td>\n",
       "      <td>1973</td>\n",
       "      <td>5.5</td>\n",
       "      <td>1 days 07:58:30</td>\n",
       "      <td>1.332292</td>\n",
       "      <td>0.012938</td>\n",
       "      <td>1.200728</td>\n",
       "      <td>1.330559</td>\n",
       "      <td>0.003650</td>\n",
       "    </tr>\n",
       "  </tbody>\n",
       "</table>\n",
       "</div>"
      ],
      "text/plain": [
       "         Date      Time  Latitude  Longitude        Type  Magnitude  Source  \\\n",
       "0  09/15/1967  00:28:39    35.607    140.738  Earthquake        5.8  ISCGEM   \n",
       "1  07/01/1968  10:45:12    35.999    139.348  Earthquake        6.1  ISCGEM   \n",
       "2  07/22/1971  22:07:21    35.518    138.976  Earthquake        5.6  ISCGEM   \n",
       "3  09/30/1973  06:17:53    35.606    140.447  Earthquake        5.9      US   \n",
       "4  10/01/1973  14:16:23    35.716    140.561  Earthquake        5.6      US   \n",
       "\n",
       "             Datetime  Year  Rounded_Magnitude         Last_Quake  \\\n",
       "0 1967-09-15 00:28:39  1967                5.5  891 days 18:56:40   \n",
       "1 1968-07-01 10:45:12  1968                6.0  290 days 10:16:33   \n",
       "2 1971-07-22 22:07:21  1971                5.5 1116 days 11:22:09   \n",
       "3 1973-09-30 06:17:53  1973                5.5  800 days 08:10:32   \n",
       "4 1973-10-01 14:16:23  1973                5.5    1 days 07:58:30   \n",
       "\n",
       "   Last_Quake_days  Dist_Tokyo  Dist_San_Fran  Dist_Denver  Last_Quake_years  \n",
       "0         1.241238    0.015472       1.199964     1.330245          2.443258  \n",
       "1         4.794919    0.007158       1.209596     1.336895          0.795694  \n",
       "2         1.419352    0.009927       1.216899     1.344091          3.058832  \n",
       "3         0.695035    0.011360       1.202669     1.332426          2.192714  \n",
       "4         1.332292    0.012938       1.200728     1.330559          0.003650  "
      ]
     },
     "execution_count": 31,
     "metadata": {},
     "output_type": "execute_result"
    }
   ],
   "source": [
    "San_Fran_df = df[df.Dist_San_Fran < Local_Dist]\n",
    "\n",
    "# Calculations\n",
    "\n",
    "San_Fran_df['Last_Quake'] = San_Fran_df.Datetime.diff()\n",
    "San_Fran_df = San_Fran_df[San_Fran_df['Last_Quake'].notna()]\n",
    "San_Fran_df['Last_Quake_years'] = San_Fran_df['Last_Quake'].map(lambda x: x.total_seconds()/(365*24*60*60))\n",
    "\n",
    "tokyo_df.reset_index(drop=True, inplace=True)\n",
    "\n",
    "tokyo_df.head()"
   ]
  },
  {
   "cell_type": "code",
   "execution_count": 38,
   "metadata": {},
   "outputs": [
    {
     "data": {
      "image/png": "[encoded data removed]",
      "text/plain": [
       "<Figure size 432x288 with 1 Axes>"
      ]
     },
     "metadata": {
      "needs_background": "light"
     },
     "output_type": "display_data"
    },
    {
     "data": {
      "image/png": "[encoded data removed]",
      "text/plain": [
       "<Figure size 432x288 with 1 Axes>"
      ]
     },
     "metadata": {
      "needs_background": "light"
     },
     "output_type": "display_data"
    }
   ],
   "source": [
    "# Cumulative Distribution\n",
    "max_x = San_Fran_df.Last_Quake_years.max()\n",
    "x = np.array(sorted(San_Fran_df.Last_Quake_years.values))\n",
    "y = np.arange(1,len(San_Fran_df)+1)/len(San_Fran_df)\n",
    "\n",
    "dense_x = np.linspace(0,max_x,50)\n",
    "\n",
    "plt.scatter(x,y, alpha=0.5, label='Data') # Plot data\n",
    "\n",
    "popt, pcov = curve_fit(exp_cumulative_density, x, y) # Fit curve\n",
    "plt.plot(dense_x, exp_cumulative_density(dense_x, *popt), 'r-',label='Curve fit: Lambda=%5.3f' % tuple(popt)) # Plot fit curve\n",
    "San_Fran_lamb = popt[0]\n",
    "\n",
    "plt.title('Exponential Cumulative density distribution')\n",
    "plt.xlabel('Years since last quake')\n",
    "plt.ylabel('Probability')\n",
    "plt.legend()\n",
    "\n",
    "\n",
    "#Marginal Distribution\n",
    "plt.figure() # New plot\n",
    "dx = np.diff(x)\n",
    "dy = np.diff(y)\n",
    "new_x = x[1:] # becuase np.diff()\n",
    "\n",
    "plt.scatter(new_x,dy/dx, alpha=0.5, label='Data') # Plot data\n",
    "\n",
    "popt, pcov = curve_fit(exp_marginal_density, new_x, dy/dx) # Fit curve\n",
    "plt.plot(dense_x, exp_marginal_density(dense_x, *popt), 'r-',label='Curve fit: Lambda=%5.3f' % tuple(popt)) # Plot fit curve\n",
    "# lamb += popt[0]/2 OVERRIDE. Interpolation isnt good. use Cumulative value\n",
    "\n",
    "plt.title('Exponential Marginal density distribution')\n",
    "plt.xlabel('Years since last quake')\n",
    "plt.ylabel('Probability')\n",
    "plt.legend()\n",
    "\n",
    "plt.show()"
   ]
  },
  {
   "cell_type": "code",
   "execution_count": 37,
   "metadata": {},
   "outputs": [
    {
     "data": {
      "text/plain": [
       "7"
      ]
     },
     "execution_count": 37,
     "metadata": {},
     "output_type": "execute_result"
    }
   ],
   "source": [
    "len(San_Fran_df)"
   ]
  },
  {
   "cell_type": "markdown",
   "metadata": {},
   "source": [
    "#### Fit and numerical Error\n",
    "\n",
    "Now with even less datapoints, the numerical approximation begins to fall apart. Lambda from the cumulative distribution will be used again in the following calculations."
   ]
  },
  {
   "cell_type": "code",
   "execution_count": 40,
   "metadata": {},
   "outputs": [
    {
     "data": {
      "text/plain": [
       "<matplotlib.legend.Legend at 0x12810f400>"
      ]
     },
     "execution_count": 40,
     "metadata": {},
     "output_type": "execute_result"
    },
    {
     "data": {
      "image/png": "[encoded data removed]",
      "text/plain": [
       "<Figure size 432x288 with 1 Axes>"
      ]
     },
     "metadata": {
      "needs_background": "light"
     },
     "output_type": "display_data"
    }
   ],
   "source": [
    "plt.plot([San_Fran_lamb,San_Fran_lamb],[0,.5], label='mean') # Mark mean\n",
    "plt.plot(dense_x,pois_marginal_density(dense_x,San_Fran_lamb),label = 'lambda=%3.3f'%(San_Fran_lamb))\n",
    "\n",
    "plt.title('Poisson Marginal Distribution')\n",
    "plt.xlabel('Earthquakes per year')\n",
    "plt.ylabel('Probability')\n",
    "plt.legend()"
   ]
  },
  {
   "cell_type": "markdown",
   "metadata": {},
   "source": [
    "#### San Francisco Conclusions\n",
    "\n",
    "San Francisco has significanly less earthquakes than tokyo, but the city is not entirely safe. Residents can expect a large earthquake every 3.64 years (1/$\\lambda$)."
   ]
  },
  {
   "cell_type": "markdown",
   "metadata": {},
   "source": [
    "#### Is San Francisco Ready?\n",
    "\n",
    "The coastal peninsula is largely composed of sand and other loose soils giving it a high risk of liquefaciton. Even building dampers won't help when the ground holding the foundation begins to flow like water.\n",
    "\n",
    "![Liquefaction Map](liquefaction.png)\n",
    "([source,  NY Times](https://www.nytimes.com/interactive/2018/04/17/us/san-francisco-earthquake-seismic-gamble.html))"
   ]
  }
 ],
 "metadata": {
  "kernelspec": {
   "display_name": "Python 3",
   "language": "python",
   "name": "python3"
  },
  "language_info": {
   "codemirror_mode": {
    "name": "ipython",
    "version": 3
   },
   "file_extension": ".py",
   "mimetype": "text/x-python",
   "name": "python",
   "nbconvert_exporter": "python",
   "pygments_lexer": "ipython3",
   "version": "3.7.3"
  }
 },
 "nbformat": 4,
 "nbformat_minor": 2
}
