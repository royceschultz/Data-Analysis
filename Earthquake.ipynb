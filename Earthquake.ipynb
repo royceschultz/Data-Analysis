{
 "cells": [
  {
   "cell_type": "markdown",
   "metadata": {},
   "source": [
    "# Analysis of Earthquake Frequency\n",
    "By Royce Schultz"
   ]
  },
  {
   "cell_type": "markdown",
   "metadata": {},
   "source": [
    "## Abstract\n",
    "\n",
    "This project will demonstrate the effectiveness of common statistical distributions at modeling random natural phenomena.\n",
    "\n",
    "## The exponential distribution\n",
    "\n",
    "Marginal Distribution:\n",
    "\\begin{align}\n",
    "    e^{-\\lambda x}\n",
    "\\end{align}\n",
    "Cumulative Distribution:\n",
    "\\begin{align}\n",
    "    \\int Marginal\\ Dist = 1 - e^{-\\lambda x}\n",
    "\\end{align}"
   ]
  },
  {
   "cell_type": "code",
   "execution_count": 1,
   "metadata": {},
   "outputs": [],
   "source": [
    "def exp_marginal_density(x, lamb): # The derivative of CDF\n",
    "    return lamb * np.exp(-lamb * x)\n",
    "\n",
    "def exp_cumulative_density(x, lamb): # The integral of MDF\n",
    "    return 1 - np.exp(-lamb * x)"
   ]
  },
  {
   "cell_type": "markdown",
   "metadata": {},
   "source": [
    "The exponential distribution models the time **between** events, but it can be transformed to model the **number of events** in each timestep.\n",
    "\n",
    "## The Poisson Distribution"
   ]
  },
  {
   "cell_type": "code",
   "execution_count": 2,
   "metadata": {},
   "outputs": [],
   "source": [
    "def pois_marginal_density(k,lamb):\n",
    "    a = lamb**k\n",
    "    b = np.exp(-lamb)\n",
    "    c = gamma(k+1)\n",
    "    return (a * b) / c\n",
    "\n",
    "def pois_cumulative_density(k,lamb):\n",
    "    s = 0\n",
    "    for x in range(k):\n",
    "        s += np.exp(-lamb)*(lamb**x)/gamma(k+1)\n",
    "    return s"
   ]
  },
  {
   "cell_type": "markdown",
   "metadata": {},
   "source": [
    "## About the data\n",
    "\n",
    "The dataset is available on [Kaggle](https://www.kaggle.com/usgs/earthquake-database)\n",
    "\n",
    "The filtered set contains 23228 earthquakes from all over the world reported between 1965 and 2016. This set only contains significant earthquakes with a magnitude >5.5. There are **thousands** of small, unnoticable earthquakes every day that are not contained in this set."
   ]
  },
  {
   "cell_type": "markdown",
   "metadata": {},
   "source": [
    "| Magnitude | Effects | Estimated Number Each Year | \n",
    "|---|---|---|\n",
    "| <2.5 | Usually not felt, only recorded by seismograph. | 900,000 | \n",
    "| 2.5-5.4 | Often felt, but only minor damage | 30,000 | \n",
    "|  5.5-6.0 | Slight damage to buildings | 500 | \n",
    "|  6.1-6.9 | May cause lots of damage in populated areas | 100 | \n",
    "|  7.0-7.9 | Serious Damage | 20 | \n",
    "|  >8.0 | Can totally destroy communities | 1 every 5-10 years | \n",
    "\n",
    "[(Source, geo.mtu.edu)](http://www.geo.mtu.edu/UPSeis/magnitude.html)"
   ]
  },
  {
   "cell_type": "code",
   "execution_count": 3,
   "metadata": {},
   "outputs": [],
   "source": [
    "import pandas as pd\n",
    "import numpy as np\n",
    "import matplotlib.pyplot as plt\n",
    "import seaborn as sns\n",
    "from scipy.optimize import curve_fit\n",
    "from scipy.special import gamma\n",
    "\n",
    "from pandas.plotting import register_matplotlib_converters\n",
    "register_matplotlib_converters()"
   ]
  },
  {
   "cell_type": "markdown",
   "metadata": {},
   "source": [
    "## Reading and processing the data"
   ]
  },
  {
   "cell_type": "code",
   "execution_count": 4,
   "metadata": {
    "scrolled": true
   },
   "outputs": [],
   "source": [
    "Fields = ['Date','Time','Latitude','Longitude','Type','Magnitude','Source'] # Only import used columns\n",
    "df = pd.read_csv('database.csv', usecols=Fields)"
   ]
  },
  {
   "cell_type": "code",
   "execution_count": 5,
   "metadata": {},
   "outputs": [],
   "source": [
    "# Cleaning\n",
    "df = df[df.Date.str.len() < 15] # Removes 3 rows with malformed dates\n",
    "df = df[df.Type.isin(['Earthquake'])] # removes nuclear explosions and rock bursts"
   ]
  },
  {
   "cell_type": "code",
   "execution_count": 6,
   "metadata": {
    "scrolled": false
   },
   "outputs": [],
   "source": [
    "# Calculations\n",
    "df['Datetime'] = pd.to_datetime(df.Date +' '+ df.Time) #convert strings to datetime object\n",
    "df['Year'] = df['Datetime'].map(lambda x: x.year) #get year of datetime object for plotting\n",
    "\n",
    "#for grouping magnitudes\n",
    "df['Rounded_Magnitude'] = np.floor(df.Magnitude * 2) / 2 #scaling rounds to the nearest half instad of whole number.\n",
    "\n",
    "df['Last_Quake'] = df.Datetime.diff() #get frequency data\n",
    "df = df[df['Last_Quake'].notna()]\n",
    "df['Last_Quake_days'] = df['Last_Quake'].map(lambda x: x.total_seconds()/(24*60*60)) # Convert to days\n",
    "\n",
    "df.reset_index(drop=True, inplace=True)"
   ]
  },
  {
   "cell_type": "code",
   "execution_count": 7,
   "metadata": {},
   "outputs": [
    {
     "data": {
      "text/html": [
       "<div>\n",
       "<style scoped>\n",
       "    .dataframe tbody tr th:only-of-type {\n",
       "        vertical-align: middle;\n",
       "    }\n",
       "\n",
       "    .dataframe tbody tr th {\n",
       "        vertical-align: top;\n",
       "    }\n",
       "\n",
       "    .dataframe thead th {\n",
       "        text-align: right;\n",
       "    }\n",
       "</style>\n",
       "<table border=\"1\" class=\"dataframe\">\n",
       "  <thead>\n",
       "    <tr style=\"text-align: right;\">\n",
       "      <th></th>\n",
       "      <th>Date</th>\n",
       "      <th>Time</th>\n",
       "      <th>Latitude</th>\n",
       "      <th>Longitude</th>\n",
       "      <th>Type</th>\n",
       "      <th>Magnitude</th>\n",
       "      <th>Source</th>\n",
       "      <th>Datetime</th>\n",
       "      <th>Year</th>\n",
       "      <th>Rounded_Magnitude</th>\n",
       "      <th>Last_Quake</th>\n",
       "      <th>Last_Quake_days</th>\n",
       "    </tr>\n",
       "  </thead>\n",
       "  <tbody>\n",
       "    <tr>\n",
       "      <th>0</th>\n",
       "      <td>01/04/1965</td>\n",
       "      <td>11:29:49</td>\n",
       "      <td>1.863</td>\n",
       "      <td>127.352</td>\n",
       "      <td>Earthquake</td>\n",
       "      <td>5.8</td>\n",
       "      <td>ISCGEM</td>\n",
       "      <td>1965-01-04 11:29:49</td>\n",
       "      <td>1965</td>\n",
       "      <td>5.5</td>\n",
       "      <td>1 days 21:45:31</td>\n",
       "      <td>1.906609</td>\n",
       "    </tr>\n",
       "    <tr>\n",
       "      <th>1</th>\n",
       "      <td>01/05/1965</td>\n",
       "      <td>18:05:58</td>\n",
       "      <td>-20.579</td>\n",
       "      <td>-173.972</td>\n",
       "      <td>Earthquake</td>\n",
       "      <td>6.2</td>\n",
       "      <td>ISCGEM</td>\n",
       "      <td>1965-01-05 18:05:58</td>\n",
       "      <td>1965</td>\n",
       "      <td>6.0</td>\n",
       "      <td>1 days 06:36:09</td>\n",
       "      <td>1.275104</td>\n",
       "    </tr>\n",
       "    <tr>\n",
       "      <th>2</th>\n",
       "      <td>01/08/1965</td>\n",
       "      <td>18:49:43</td>\n",
       "      <td>-59.076</td>\n",
       "      <td>-23.557</td>\n",
       "      <td>Earthquake</td>\n",
       "      <td>5.8</td>\n",
       "      <td>ISCGEM</td>\n",
       "      <td>1965-01-08 18:49:43</td>\n",
       "      <td>1965</td>\n",
       "      <td>5.5</td>\n",
       "      <td>3 days 00:43:45</td>\n",
       "      <td>3.030382</td>\n",
       "    </tr>\n",
       "    <tr>\n",
       "      <th>3</th>\n",
       "      <td>01/09/1965</td>\n",
       "      <td>13:32:50</td>\n",
       "      <td>11.938</td>\n",
       "      <td>126.427</td>\n",
       "      <td>Earthquake</td>\n",
       "      <td>5.8</td>\n",
       "      <td>ISCGEM</td>\n",
       "      <td>1965-01-09 13:32:50</td>\n",
       "      <td>1965</td>\n",
       "      <td>5.5</td>\n",
       "      <td>0 days 18:43:07</td>\n",
       "      <td>0.779942</td>\n",
       "    </tr>\n",
       "    <tr>\n",
       "      <th>4</th>\n",
       "      <td>01/10/1965</td>\n",
       "      <td>13:36:32</td>\n",
       "      <td>-13.405</td>\n",
       "      <td>166.629</td>\n",
       "      <td>Earthquake</td>\n",
       "      <td>6.7</td>\n",
       "      <td>ISCGEM</td>\n",
       "      <td>1965-01-10 13:36:32</td>\n",
       "      <td>1965</td>\n",
       "      <td>6.5</td>\n",
       "      <td>1 days 00:03:42</td>\n",
       "      <td>1.002569</td>\n",
       "    </tr>\n",
       "  </tbody>\n",
       "</table>\n",
       "</div>"
      ],
      "text/plain": [
       "         Date      Time  Latitude  Longitude        Type  Magnitude  Source  \\\n",
       "0  01/04/1965  11:29:49     1.863    127.352  Earthquake        5.8  ISCGEM   \n",
       "1  01/05/1965  18:05:58   -20.579   -173.972  Earthquake        6.2  ISCGEM   \n",
       "2  01/08/1965  18:49:43   -59.076    -23.557  Earthquake        5.8  ISCGEM   \n",
       "3  01/09/1965  13:32:50    11.938    126.427  Earthquake        5.8  ISCGEM   \n",
       "4  01/10/1965  13:36:32   -13.405    166.629  Earthquake        6.7  ISCGEM   \n",
       "\n",
       "             Datetime  Year  Rounded_Magnitude      Last_Quake  \\\n",
       "0 1965-01-04 11:29:49  1965                5.5 1 days 21:45:31   \n",
       "1 1965-01-05 18:05:58  1965                6.0 1 days 06:36:09   \n",
       "2 1965-01-08 18:49:43  1965                5.5 3 days 00:43:45   \n",
       "3 1965-01-09 13:32:50  1965                5.5 0 days 18:43:07   \n",
       "4 1965-01-10 13:36:32  1965                6.5 1 days 00:03:42   \n",
       "\n",
       "   Last_Quake_days  \n",
       "0         1.906609  \n",
       "1         1.275104  \n",
       "2         3.030382  \n",
       "3         0.779942  \n",
       "4         1.002569  "
      ]
     },
     "execution_count": 7,
     "metadata": {},
     "output_type": "execute_result"
    }
   ],
   "source": [
    "df.head()"
   ]
  },
  {
   "cell_type": "markdown",
   "metadata": {},
   "source": [
    "## Fitting the data to the statistical Model"
   ]
  },
  {
   "cell_type": "code",
   "execution_count": 8,
   "metadata": {},
   "outputs": [
    {
     "data": {
      "image/png": "[encoded data removed]",
      "text/plain": [
       "<Figure size 432x288 with 1 Axes>"
      ]
     },
     "metadata": {
      "needs_background": "light"
     },
     "output_type": "display_data"
    }
   ],
   "source": [
    "(df[df.Last_Quake_days < 5].pivot(columns='Rounded_Magnitude')['Last_Quake_days']).plot(kind = 'hist', stacked=True,bins=40)\n",
    "plt.title('Stacked Barchart')\n",
    "plt.xlabel('Time since last Quake (days)')\n",
    "plt.show()"
   ]
  },
  {
   "cell_type": "markdown",
   "metadata": {},
   "source": [
    "## Global Exponential Model"
   ]
  },
  {
   "cell_type": "code",
   "execution_count": 9,
   "metadata": {},
   "outputs": [
    {
     "data": {
      "image/png": "[encoded data removed]",
      "text/plain": [
       "<Figure size 432x288 with 1 Axes>"
      ]
     },
     "metadata": {
      "needs_background": "light"
     },
     "output_type": "display_data"
    },
    {
     "data": {
      "image/png": "[encoded data removed]",
      "text/plain": [
       "<Figure size 432x288 with 1 Axes>"
      ]
     },
     "metadata": {
      "needs_background": "light"
     },
     "output_type": "display_data"
    },
    {
     "name": "stdout",
     "output_type": "stream",
     "text": [
      "lambda (avg): 1.209864762554936\n"
     ]
    }
   ],
   "source": [
    "density = 100 # Plot resolution\n",
    "lamb = []\n",
    "# This is okay becuase data is so dense. When data is more sparce, other methods must be used.\n",
    "\n",
    "# Cumulative Distribution\n",
    "max_x = df.Last_Quake_days.max()\n",
    "x = np.linspace(0.1,.5*max_x,density) # x does not include 0 to avoid skewing data during derivative\n",
    "y = np.zeros(density)\n",
    "for i in range(density):\n",
    "    y[i] = len(df[df.Last_Quake_days < x[i]]) / len(df) # Count earthquakes less than tolerance, divide by size of list to get probability\n",
    "# Plot data\n",
    "plt.scatter(x,y, alpha=0.5, label='Data') \n",
    "# Fit curve\n",
    "popt, pcov = curve_fit(exp_cumulative_density, x, y) \n",
    "plt.plot(x, exp_cumulative_density(x, *popt), 'r-',label='Curve fit: Lambda=%5.3f' % tuple(popt)) # Plot fit curve\n",
    "lamb.append(popt)\n",
    "\n",
    "plt.title('Exponential Cumulative density distribution')\n",
    "plt.xlabel('Days since last quake')\n",
    "plt.ylabel('Probability')\n",
    "plt.legend()\n",
    "\n",
    "#Marginal Distribution\n",
    "plt.figure() # New plot\n",
    "dx = np.diff(x)\n",
    "dy = np.diff(y)\n",
    "new_x = x[1:] # becuase np.diff()\n",
    "\n",
    "plt.scatter(new_x,dy/dx, alpha=0.5, label='Data') # Plot data\n",
    "\n",
    "popt, pcov = curve_fit(exp_marginal_density, new_x, dy/dx) # Fit curve\n",
    "plt.plot(new_x, exp_marginal_density(new_x, *popt), 'r-',label='Curve fit: Lambda=%5.3f' % tuple(popt)) # Plot fit curve\n",
    "lamb.append(popt)\n",
    "\n",
    "plt.title('Exponential Marginal density distribution')\n",
    "plt.xlabel('Days since last quake')\n",
    "plt.ylabel('Probability')\n",
    "plt.legend()\n",
    "\n",
    "plt.show()\n",
    "\n",
    "global_lamb = np.mean(lamb)\n",
    "print('lambda (avg): ' + str(global_lamb))\n"
   ]
  },
  {
   "cell_type": "markdown",
   "metadata": {},
   "source": [
    "### Mean and Variance\n",
    "\n",
    "The exponential distribution has the propterty,\n",
    "\n",
    "\\begin{align}\n",
    "mean = \\frac{1}{\\lambda} \\\\\n",
    "variance = \\frac{1}{\\lambda}\n",
    "\\end{align}\n",
    "\n",
    "Using $\\lambda = avg(1.265,1.155) = 1.210$, **on average** earthquakes occour every 0.826 days. This closely agreees with the calculated mean of the dataset with small error."
   ]
  },
  {
   "cell_type": "code",
   "execution_count": 10,
   "metadata": {},
   "outputs": [
    {
     "name": "stdout",
     "output_type": "stream",
     "text": [
      "mean: 0.818, error 0.011\n"
     ]
    }
   ],
   "source": [
    "mean = df.Last_Quake_days.mean()\n",
    "error = abs(mean - (1/global_lamb))/ mean\n",
    "print('mean: %3.3f, error %3.3f' % (mean,error))"
   ]
  },
  {
   "cell_type": "markdown",
   "metadata": {},
   "source": [
    "### Probability of a week without a strong earthquake"
   ]
  },
  {
   "cell_type": "code",
   "execution_count": 11,
   "metadata": {},
   "outputs": [
    {
     "name": "stdout",
     "output_type": "stream",
     "text": [
      "P(Days >= 7) = 0.021 percent\n"
     ]
    }
   ],
   "source": [
    "print('P(Days >= 7) = %3.3f percent' %((1 - exp_cumulative_density(7,global_lamb))*100))"
   ]
  },
  {
   "cell_type": "markdown",
   "metadata": {},
   "source": [
    "## The Poisson Distribution\n",
    "\n",
    "Using the lambda from the exponential distribution fitting, the Poisson distribution can be easily calcualted."
   ]
  },
  {
   "cell_type": "code",
   "execution_count": 12,
   "metadata": {},
   "outputs": [
    {
     "data": {
      "image/png": "[encoded data removed]",
      "text/plain": [
       "<Figure size 432x288 with 1 Axes>"
      ]
     },
     "metadata": {
      "needs_background": "light"
     },
     "output_type": "display_data"
    }
   ],
   "source": [
    "max_x = df['Last_Quake_days'].max()\n",
    "x = np.linspace(0,max_x,density)\n",
    "\n",
    "plt.plot([global_lamb,global_lamb],[0,.5], label='mean',c='r') # Mark mean\n",
    "plt.plot(x,pois_marginal_density(x,global_lamb),label = 'lambda=%3.3f'%(global_lamb), c='g')\n",
    "\n",
    "plt.title('Poisson Marginal Distribution')\n",
    "plt.xlabel('Earthquakes per year')\n",
    "plt.ylabel('Probability')\n",
    "plt.legend()\n",
    "\n",
    "counts = df.Date.groupby(df.Date).count().value_counts()\n",
    "total_days = int((df.Datetime.max()-df.Datetime.min())/np.timedelta64(1,'D'))\n",
    "days_w_no_quake = total_days - df.Date.nunique()\n",
    "counts[0] = days_w_no_quake\n",
    "plt.bar(counts.index, counts/total_days, alpha=0.7)\n",
    "plt.xlim(0,10)\n",
    "plt.show()"
   ]
  },
  {
   "cell_type": "markdown",
   "metadata": {},
   "source": [
    "The Poisson distribution has the propterty,\n",
    "\n",
    "\\begin{align}\n",
    "mean = \\lambda \\\\\n",
    "variance = \\lambda\n",
    "\\end{align}\n",
    "\n",
    "So, **on average** earth will have 1.210 eathquakes **per day**."
   ]
  },
  {
   "cell_type": "markdown",
   "metadata": {},
   "source": [
    "### Probability of 1 or more quakes in a day"
   ]
  },
  {
   "cell_type": "code",
   "execution_count": 13,
   "metadata": {},
   "outputs": [
    {
     "name": "stdout",
     "output_type": "stream",
     "text": [
      "P(Quake > 1) = 70.176 percent\n"
     ]
    }
   ],
   "source": [
    "print('P(Quake > 1) = %3.3f percent' %((1 - pois_cumulative_density(1,global_lamb))*100))"
   ]
  },
  {
   "cell_type": "markdown",
   "metadata": {},
   "source": [
    "## Localizing the model\n",
    "\n",
    "Earthquakes are more common at intersections of tectonic plates. Filtering the data to a local area can help residents assess and prepare for earthquakes."
   ]
  },
  {
   "cell_type": "code",
   "execution_count": 14,
   "metadata": {},
   "outputs": [
    {
     "data": {
      "text/plain": [
       "<matplotlib.collections.PolyCollection at 0x12a07f470>"
      ]
     },
     "execution_count": 14,
     "metadata": {},
     "output_type": "execute_result"
    },
    {
     "data": {
      "image/png": "[encoded data removed]",
      "text/plain": [
       "<Figure size 432x288 with 1 Axes>"
      ]
     },
     "metadata": {
      "needs_background": "light"
     },
     "output_type": "display_data"
    }
   ],
   "source": [
    "plt.hexbin(df.Longitude.values,df.Latitude.values, gridsize=100, bins='log',cmap='coolwarm')"
   ]
  },
  {
   "cell_type": "markdown",
   "metadata": {},
   "source": [
    "### Map of tectonic plates\n",
    "\n",
    "![Tectonic Plates Map](tectonic-plates.jpg)"
   ]
  },
  {
   "cell_type": "markdown",
   "metadata": {},
   "source": [
    "## Filtering by local distance\n",
    "\n",
    "### About the distance Funciton\n",
    "Subtracting latitude and longitude of a quake will not return the distance. The data will be skewed due to the same effect that makes Greenland appear nearly as large as Africa on a 2d map.\n",
    "\n",
    "Instead Lat/Long points define a point in spherical space and can be converted to an x,y,z triple in cartesian space. Then the euclidian distance between quakes and the reference point can be accuratly calculated.\n"
   ]
  },
  {
   "cell_type": "code",
   "execution_count": 15,
   "metadata": {},
   "outputs": [],
   "source": [
    "#   Determines Euclidian (straight line) between 2 points. Does not consider arc length, just straight distance\n",
    "#   So the poles are 2 units apart, the equator is sqrt(2)*r from each pole, not pi*r and pi/2*r like it would be with arc distance\n",
    "def distance_from(df, Lat, Long):\n",
    "    Lat = np.deg2rad(Lat) # Convert degrees to radians for numpy trig\n",
    "    Long = np.deg2rad(Long)\n",
    "    earth_radius = 6371 # km\n",
    "    x_pos = earth_radius * np.cos(Lat)*np.sin(Long) # Convert spherical coordinates to cartesian\n",
    "    y_pos = earth_radius * np.cos(Lat)*np.cos(Long) # Assumes earths radius = 1\n",
    "    z_pos = earth_radius * np.sin(Lat)\n",
    "    \n",
    "    data_Latitude_rad = np.deg2rad(df.Latitude) # Convert dataframe to radians\n",
    "    data_Longitude_rad = np.deg2rad(df.Longitude)\n",
    "    data_x_pos = earth_radius * np.cos(data_Latitude_rad)*np.sin(data_Longitude_rad) # Convert to spherical\n",
    "    data_y_pos = earth_radius * np.cos(data_Latitude_rad)*np.cos(data_Longitude_rad)\n",
    "    data_z_pos = earth_radius * np.sin(data_Latitude_rad)\n",
    "    return ( (data_x_pos - x_pos)**2 + (data_y_pos - y_pos)**2 + (data_z_pos - z_pos)**2)**(1/2) # Pythagoras3D"
   ]
  },
  {
   "cell_type": "markdown",
   "metadata": {},
   "source": [
    "### Sampling some cities"
   ]
  },
  {
   "cell_type": "code",
   "execution_count": 16,
   "metadata": {},
   "outputs": [
    {
     "data": {
      "text/html": [
       "<div>\n",
       "<style scoped>\n",
       "    .dataframe tbody tr th:only-of-type {\n",
       "        vertical-align: middle;\n",
       "    }\n",
       "\n",
       "    .dataframe tbody tr th {\n",
       "        vertical-align: top;\n",
       "    }\n",
       "\n",
       "    .dataframe thead th {\n",
       "        text-align: right;\n",
       "    }\n",
       "</style>\n",
       "<table border=\"1\" class=\"dataframe\">\n",
       "  <thead>\n",
       "    <tr style=\"text-align: right;\">\n",
       "      <th></th>\n",
       "      <th>Date</th>\n",
       "      <th>Time</th>\n",
       "      <th>Latitude</th>\n",
       "      <th>Longitude</th>\n",
       "      <th>Type</th>\n",
       "      <th>Magnitude</th>\n",
       "      <th>Source</th>\n",
       "      <th>Datetime</th>\n",
       "      <th>Year</th>\n",
       "      <th>Rounded_Magnitude</th>\n",
       "      <th>Last_Quake</th>\n",
       "      <th>Last_Quake_days</th>\n",
       "      <th>Dist_Tokyo</th>\n",
       "      <th>Dist_San_Fran</th>\n",
       "      <th>Dist_Denver</th>\n",
       "    </tr>\n",
       "  </thead>\n",
       "  <tbody>\n",
       "    <tr>\n",
       "      <th>0</th>\n",
       "      <td>01/04/1965</td>\n",
       "      <td>11:29:49</td>\n",
       "      <td>1.863</td>\n",
       "      <td>127.352</td>\n",
       "      <td>Earthquake</td>\n",
       "      <td>5.8</td>\n",
       "      <td>ISCGEM</td>\n",
       "      <td>1965-01-04 11:29:49</td>\n",
       "      <td>1965</td>\n",
       "      <td>5.5</td>\n",
       "      <td>1 days 21:45:31</td>\n",
       "      <td>1.906609</td>\n",
       "      <td>3903.666462</td>\n",
       "      <td>10086.546238</td>\n",
       "      <td>10844.773500</td>\n",
       "    </tr>\n",
       "    <tr>\n",
       "      <th>1</th>\n",
       "      <td>01/05/1965</td>\n",
       "      <td>18:05:58</td>\n",
       "      <td>-20.579</td>\n",
       "      <td>-173.972</td>\n",
       "      <td>Earthquake</td>\n",
       "      <td>6.2</td>\n",
       "      <td>ISCGEM</td>\n",
       "      <td>1965-01-05 18:05:58</td>\n",
       "      <td>1965</td>\n",
       "      <td>6.0</td>\n",
       "      <td>1 days 06:36:09</td>\n",
       "      <td>1.275104</td>\n",
       "      <td>7431.237762</td>\n",
       "      <td>7829.511117</td>\n",
       "      <td>8857.842876</td>\n",
       "    </tr>\n",
       "    <tr>\n",
       "      <th>2</th>\n",
       "      <td>01/08/1965</td>\n",
       "      <td>18:49:43</td>\n",
       "      <td>-59.076</td>\n",
       "      <td>-23.557</td>\n",
       "      <td>Earthquake</td>\n",
       "      <td>5.8</td>\n",
       "      <td>ISCGEM</td>\n",
       "      <td>1965-01-08 18:49:43</td>\n",
       "      <td>1965</td>\n",
       "      <td>5.5</td>\n",
       "      <td>3 days 00:43:45</td>\n",
       "      <td>3.030382</td>\n",
       "      <td>12419.068617</td>\n",
       "      <td>11354.027774</td>\n",
       "      <td>10996.431875</td>\n",
       "    </tr>\n",
       "    <tr>\n",
       "      <th>3</th>\n",
       "      <td>01/09/1965</td>\n",
       "      <td>13:32:50</td>\n",
       "      <td>11.938</td>\n",
       "      <td>126.427</td>\n",
       "      <td>Earthquake</td>\n",
       "      <td>5.8</td>\n",
       "      <td>ISCGEM</td>\n",
       "      <td>1965-01-09 13:32:50</td>\n",
       "      <td>1965</td>\n",
       "      <td>5.5</td>\n",
       "      <td>0 days 18:43:07</td>\n",
       "      <td>0.779942</td>\n",
       "      <td>2928.373019</td>\n",
       "      <td>9672.115135</td>\n",
       "      <td>10417.868876</td>\n",
       "    </tr>\n",
       "    <tr>\n",
       "      <th>4</th>\n",
       "      <td>01/10/1965</td>\n",
       "      <td>13:36:32</td>\n",
       "      <td>-13.405</td>\n",
       "      <td>166.629</td>\n",
       "      <td>Earthquake</td>\n",
       "      <td>6.7</td>\n",
       "      <td>ISCGEM</td>\n",
       "      <td>1965-01-10 13:36:32</td>\n",
       "      <td>1965</td>\n",
       "      <td>6.5</td>\n",
       "      <td>1 days 00:03:42</td>\n",
       "      <td>1.002569</td>\n",
       "      <td>5914.613093</td>\n",
       "      <td>8504.900890</td>\n",
       "      <td>9565.323488</td>\n",
       "    </tr>\n",
       "  </tbody>\n",
       "</table>\n",
       "</div>"
      ],
      "text/plain": [
       "         Date      Time  Latitude  Longitude        Type  Magnitude  Source  \\\n",
       "0  01/04/1965  11:29:49     1.863    127.352  Earthquake        5.8  ISCGEM   \n",
       "1  01/05/1965  18:05:58   -20.579   -173.972  Earthquake        6.2  ISCGEM   \n",
       "2  01/08/1965  18:49:43   -59.076    -23.557  Earthquake        5.8  ISCGEM   \n",
       "3  01/09/1965  13:32:50    11.938    126.427  Earthquake        5.8  ISCGEM   \n",
       "4  01/10/1965  13:36:32   -13.405    166.629  Earthquake        6.7  ISCGEM   \n",
       "\n",
       "             Datetime  Year  Rounded_Magnitude      Last_Quake  \\\n",
       "0 1965-01-04 11:29:49  1965                5.5 1 days 21:45:31   \n",
       "1 1965-01-05 18:05:58  1965                6.0 1 days 06:36:09   \n",
       "2 1965-01-08 18:49:43  1965                5.5 3 days 00:43:45   \n",
       "3 1965-01-09 13:32:50  1965                5.5 0 days 18:43:07   \n",
       "4 1965-01-10 13:36:32  1965                6.5 1 days 00:03:42   \n",
       "\n",
       "   Last_Quake_days    Dist_Tokyo  Dist_San_Fran   Dist_Denver  \n",
       "0         1.906609   3903.666462   10086.546238  10844.773500  \n",
       "1         1.275104   7431.237762    7829.511117   8857.842876  \n",
       "2         3.030382  12419.068617   11354.027774  10996.431875  \n",
       "3         0.779942   2928.373019    9672.115135  10417.868876  \n",
       "4         1.002569   5914.613093    8504.900890   9565.323488  "
      ]
     },
     "execution_count": 16,
     "metadata": {},
     "output_type": "execute_result"
    }
   ],
   "source": [
    "Tokyo = [35.67,139.65]\n",
    "San_Fran = [37.77,-122.42]\n",
    "Denver = [39.74,-104.99]\n",
    "\n",
    "df['Dist_Tokyo'] = distance_from(df,Tokyo[0],Tokyo[1])\n",
    "df['Dist_San_Fran'] = distance_from(df,San_Fran[0],San_Fran[1])\n",
    "df['Dist_Denver'] = distance_from(df,Denver[0],Denver[1])\n",
    "\n",
    "df.reset_index(drop=True, inplace=True)\n",
    "\n",
    "df.head()"
   ]
  },
  {
   "cell_type": "markdown",
   "metadata": {},
   "source": [
    "### How far away can you feel a strong quake?\n",
    "The [US Geological Program (USGS)](https://earthquake.usgs.gov/learn/topics/mag-intensity/) cites that even somewhat large earhquakes dissapate quickly over an area. The tremors can hardly be felt more than just 100km or about 1 degree away.\n",
    "\n",
    "![Quake Strength Map](Quake_Strength_Heatmap.jpg)\n",
    "\n",
    "There are clearly other factors to consider before estimating damages. Soil composition can affect energy dissapation and other secondary effects like tsunamis can cause significant damage from greater distances."
   ]
  },
  {
   "cell_type": "code",
   "execution_count": 17,
   "metadata": {},
   "outputs": [
    {
     "data": {
      "text/plain": [
       "0    558.990744\n",
       "dtype: float64"
      ]
     },
     "execution_count": 17,
     "metadata": {},
     "output_type": "execute_result"
    }
   ],
   "source": [
    "# distance_from returns a the distance in kilometers between 2 points.\n",
    "# Euclidian distance, not arc distance\n",
    "q = pd.DataFrame.from_dict({'Latitude': [San_Fran[0]], 'Longitude': [San_Fran[1]]})\n",
    "distance_from(q,34.05,-118.24) # Distance to LA"
   ]
  },
  {
   "cell_type": "markdown",
   "metadata": {},
   "source": [
    "## Comparing the frequency of earthquakes in 3 large cities."
   ]
  },
  {
   "cell_type": "code",
   "execution_count": 18,
   "metadata": {
    "scrolled": true
   },
   "outputs": [
    {
     "data": {
      "image/png": "[encoded data removed]",
      "text/plain": [
       "<Figure size 432x288 with 1 Axes>"
      ]
     },
     "metadata": {
      "needs_background": "light"
     },
     "output_type": "display_data"
    }
   ],
   "source": [
    "Local_Dist = 100\n",
    "years = 2016-1965\n",
    "\n",
    "Denver_Local_Counts = df[df.Dist_Denver < Local_Dist].Rounded_Magnitude.value_counts() / years\n",
    "San_Fran_Local_Counts = df[df.Dist_San_Fran < Local_Dist].Rounded_Magnitude.value_counts() / years\n",
    "Tokyo_Local_Counts = df[df.Dist_Tokyo < Local_Dist].Rounded_Magnitude.value_counts() / years\n",
    "\n",
    "counts = pd.concat({'Denver':Denver_Local_Counts, 'San_Fran':San_Fran_Local_Counts, 'Tokyo':Tokyo_Local_Counts}, axis = 1).fillna(0)\n",
    "counts.transpose().plot(kind='bar',stacked=True)\n",
    "\n",
    "plt.title('Large earthquakes per year (avg)')\n",
    "plt.show()\n"
   ]
  },
  {
   "cell_type": "markdown",
   "metadata": {},
   "source": [
    "### Earthquake frequency in Tokyo"
   ]
  },
  {
   "cell_type": "code",
   "execution_count": 19,
   "metadata": {},
   "outputs": [
    {
     "name": "stderr",
     "output_type": "stream",
     "text": [
      "/usr/local/lib/python3.7/site-packages/ipykernel_launcher.py:3: SettingWithCopyWarning: \n",
      "A value is trying to be set on a copy of a slice from a DataFrame.\n",
      "Try using .loc[row_indexer,col_indexer] = value instead\n",
      "\n",
      "See the caveats in the documentation: http://pandas.pydata.org/pandas-docs/stable/indexing.html#indexing-view-versus-copy\n",
      "  This is separate from the ipykernel package so we can avoid doing imports until\n"
     ]
    },
    {
     "data": {
      "text/html": [
       "<div>\n",
       "<style scoped>\n",
       "    .dataframe tbody tr th:only-of-type {\n",
       "        vertical-align: middle;\n",
       "    }\n",
       "\n",
       "    .dataframe tbody tr th {\n",
       "        vertical-align: top;\n",
       "    }\n",
       "\n",
       "    .dataframe thead th {\n",
       "        text-align: right;\n",
       "    }\n",
       "</style>\n",
       "<table border=\"1\" class=\"dataframe\">\n",
       "  <thead>\n",
       "    <tr style=\"text-align: right;\">\n",
       "      <th></th>\n",
       "      <th>Date</th>\n",
       "      <th>Time</th>\n",
       "      <th>Latitude</th>\n",
       "      <th>Longitude</th>\n",
       "      <th>Type</th>\n",
       "      <th>Magnitude</th>\n",
       "      <th>Source</th>\n",
       "      <th>Datetime</th>\n",
       "      <th>Year</th>\n",
       "      <th>Rounded_Magnitude</th>\n",
       "      <th>Last_Quake</th>\n",
       "      <th>Last_Quake_days</th>\n",
       "      <th>Dist_Tokyo</th>\n",
       "      <th>Dist_San_Fran</th>\n",
       "      <th>Dist_Denver</th>\n",
       "      <th>Last_Quake_years</th>\n",
       "    </tr>\n",
       "  </thead>\n",
       "  <tbody>\n",
       "    <tr>\n",
       "      <th>0</th>\n",
       "      <td>09/15/1967</td>\n",
       "      <td>00:28:39</td>\n",
       "      <td>35.607</td>\n",
       "      <td>140.738</td>\n",
       "      <td>Earthquake</td>\n",
       "      <td>5.8</td>\n",
       "      <td>ISCGEM</td>\n",
       "      <td>1967-09-15 00:28:39</td>\n",
       "      <td>1967</td>\n",
       "      <td>5.5</td>\n",
       "      <td>891 days 18:56:40</td>\n",
       "      <td>1.241238</td>\n",
       "      <td>98.569397</td>\n",
       "      <td>7644.968728</td>\n",
       "      <td>8474.988294</td>\n",
       "      <td>2.443258</td>\n",
       "    </tr>\n",
       "    <tr>\n",
       "      <th>1</th>\n",
       "      <td>07/01/1968</td>\n",
       "      <td>10:45:12</td>\n",
       "      <td>35.999</td>\n",
       "      <td>139.348</td>\n",
       "      <td>Earthquake</td>\n",
       "      <td>6.1</td>\n",
       "      <td>ISCGEM</td>\n",
       "      <td>1968-07-01 10:45:12</td>\n",
       "      <td>1968</td>\n",
       "      <td>6.0</td>\n",
       "      <td>290 days 10:16:33</td>\n",
       "      <td>4.794919</td>\n",
       "      <td>45.601298</td>\n",
       "      <td>7706.335966</td>\n",
       "      <td>8517.359487</td>\n",
       "      <td>0.795694</td>\n",
       "    </tr>\n",
       "    <tr>\n",
       "      <th>2</th>\n",
       "      <td>07/22/1971</td>\n",
       "      <td>22:07:21</td>\n",
       "      <td>35.518</td>\n",
       "      <td>138.976</td>\n",
       "      <td>Earthquake</td>\n",
       "      <td>5.6</td>\n",
       "      <td>ISCGEM</td>\n",
       "      <td>1971-07-22 22:07:21</td>\n",
       "      <td>1971</td>\n",
       "      <td>5.5</td>\n",
       "      <td>1116 days 11:22:09</td>\n",
       "      <td>1.419352</td>\n",
       "      <td>63.242601</td>\n",
       "      <td>7752.862234</td>\n",
       "      <td>8563.203859</td>\n",
       "      <td>3.058832</td>\n",
       "    </tr>\n",
       "    <tr>\n",
       "      <th>3</th>\n",
       "      <td>09/30/1973</td>\n",
       "      <td>06:17:53</td>\n",
       "      <td>35.606</td>\n",
       "      <td>140.447</td>\n",
       "      <td>Earthquake</td>\n",
       "      <td>5.9</td>\n",
       "      <td>US</td>\n",
       "      <td>1973-09-30 06:17:53</td>\n",
       "      <td>1973</td>\n",
       "      <td>5.5</td>\n",
       "      <td>800 days 08:10:32</td>\n",
       "      <td>0.695035</td>\n",
       "      <td>72.374801</td>\n",
       "      <td>7662.202260</td>\n",
       "      <td>8488.883038</td>\n",
       "      <td>2.192714</td>\n",
       "    </tr>\n",
       "    <tr>\n",
       "      <th>4</th>\n",
       "      <td>10/01/1973</td>\n",
       "      <td>14:16:23</td>\n",
       "      <td>35.716</td>\n",
       "      <td>140.561</td>\n",
       "      <td>Earthquake</td>\n",
       "      <td>5.6</td>\n",
       "      <td>US</td>\n",
       "      <td>1973-10-01 14:16:23</td>\n",
       "      <td>1973</td>\n",
       "      <td>5.5</td>\n",
       "      <td>1 days 07:58:30</td>\n",
       "      <td>1.332292</td>\n",
       "      <td>82.428106</td>\n",
       "      <td>7649.836055</td>\n",
       "      <td>8476.991232</td>\n",
       "      <td>0.003650</td>\n",
       "    </tr>\n",
       "  </tbody>\n",
       "</table>\n",
       "</div>"
      ],
      "text/plain": [
       "         Date      Time  Latitude  Longitude        Type  Magnitude  Source  \\\n",
       "0  09/15/1967  00:28:39    35.607    140.738  Earthquake        5.8  ISCGEM   \n",
       "1  07/01/1968  10:45:12    35.999    139.348  Earthquake        6.1  ISCGEM   \n",
       "2  07/22/1971  22:07:21    35.518    138.976  Earthquake        5.6  ISCGEM   \n",
       "3  09/30/1973  06:17:53    35.606    140.447  Earthquake        5.9      US   \n",
       "4  10/01/1973  14:16:23    35.716    140.561  Earthquake        5.6      US   \n",
       "\n",
       "             Datetime  Year  Rounded_Magnitude         Last_Quake  \\\n",
       "0 1967-09-15 00:28:39  1967                5.5  891 days 18:56:40   \n",
       "1 1968-07-01 10:45:12  1968                6.0  290 days 10:16:33   \n",
       "2 1971-07-22 22:07:21  1971                5.5 1116 days 11:22:09   \n",
       "3 1973-09-30 06:17:53  1973                5.5  800 days 08:10:32   \n",
       "4 1973-10-01 14:16:23  1973                5.5    1 days 07:58:30   \n",
       "\n",
       "   Last_Quake_days  Dist_Tokyo  Dist_San_Fran  Dist_Denver  Last_Quake_years  \n",
       "0         1.241238   98.569397    7644.968728  8474.988294          2.443258  \n",
       "1         4.794919   45.601298    7706.335966  8517.359487          0.795694  \n",
       "2         1.419352   63.242601    7752.862234  8563.203859          3.058832  \n",
       "3         0.695035   72.374801    7662.202260  8488.883038          2.192714  \n",
       "4         1.332292   82.428106    7649.836055  8476.991232          0.003650  "
      ]
     },
     "execution_count": 19,
     "metadata": {},
     "output_type": "execute_result"
    }
   ],
   "source": [
    "tokyo_df = df[df.Dist_Tokyo < Local_Dist]\n",
    "# Calculations\n",
    "tokyo_df['Last_Quake'] = tokyo_df.Datetime.diff()\n",
    "tokyo_df = tokyo_df[tokyo_df['Last_Quake'].notna()]\n",
    "tokyo_df['Last_Quake_years'] = tokyo_df['Last_Quake'].map(lambda x: x.total_seconds()/(365*24*60*60)) # Last Quake (s)\n",
    "\n",
    "tokyo_df.reset_index(drop=True, inplace=True)\n",
    "tokyo_df.head()"
   ]
  },
  {
   "cell_type": "code",
   "execution_count": 20,
   "metadata": {},
   "outputs": [
    {
     "data": {
      "text/plain": [
       "<matplotlib.legend.Legend at 0x12a13cf28>"
      ]
     },
     "execution_count": 20,
     "metadata": {},
     "output_type": "execute_result"
    },
    {
     "data": {
      "image/png": "[encoded data removed]",
      "text/plain": [
       "<Figure size 432x288 with 1 Axes>"
      ]
     },
     "metadata": {
      "needs_background": "light"
     },
     "output_type": "display_data"
    }
   ],
   "source": [
    "# Cumulative Distribution\n",
    "max_x = tokyo_df.Last_Quake_years.max()\n",
    "x = np.array(sorted(tokyo_df.Last_Quake_years.values))\n",
    "y = np.arange(1,len(tokyo_df)+1)/len(tokyo_df)\n",
    "dense_x = np.linspace(0,max_x,50)\n",
    "\n",
    "plt.scatter(x,y, alpha=0.5, label='Data') # Plot data\n",
    "\n",
    "popt, pcov = curve_fit(exp_cumulative_density, x, y) # Fit curve\n",
    "plt.plot(dense_x, exp_cumulative_density(dense_x, *popt), 'r-',label='Curve fit: Lambda=%5.3f' % tuple(popt)) # Plot fit curve\n",
    "tokyo_lamb = popt[0]\n",
    "\n",
    "plt.title('Exponential Cumulative density distribution')\n",
    "plt.xlabel('Years since last quake')\n",
    "plt.ylabel('Probability')\n",
    "plt.legend()"
   ]
  },
  {
   "cell_type": "code",
   "execution_count": 21,
   "metadata": {},
   "outputs": [
    {
     "data": {
      "text/plain": [
       "48"
      ]
     },
     "execution_count": 21,
     "metadata": {},
     "output_type": "execute_result"
    }
   ],
   "source": [
    "len(tokyo_df)"
   ]
  },
  {
   "cell_type": "code",
   "execution_count": 26,
   "metadata": {},
   "outputs": [
    {
     "data": {
      "image/png": "[encoded data removed]",
      "text/plain": [
       "<Figure size 432x288 with 1 Axes>"
      ]
     },
     "metadata": {
      "needs_background": "light"
     },
     "output_type": "display_data"
    }
   ],
   "source": [
    "\n",
    "x = np.linspace(0,8,100)\n",
    "\n",
    "plt.plot([tokyo_lamb,tokyo_lamb],[0,.5], label='mean',c='r') # Mark mean\n",
    "plt.plot(x,pois_marginal_density(x,tokyo_lamb),label = 'lambda=%3.3f'%(tokyo_lamb), c='g')\n",
    "manual_fit = 1\n",
    "plt.plot(x,pois_marginal_density(x,manual_fit),label = 'lambda=%3.3f'%(manual_fit), c='y')\n",
    "\n",
    "plt.title('Poisson Marginal Distribution')\n",
    "plt.xlabel('Earthquakes per year')\n",
    "plt.ylabel('Probability')\n",
    "plt.legend()\n",
    "\n",
    "years = tokyo_df.Datetime.map(lambda x: x.year)\n",
    "total_years = years.max()-years.min()\n",
    "years_w_no_quake = total_years - years.nunique()\n",
    "counts = years.groupby(years).count().value_counts()\n",
    "counts[0] = years_w_no_quake\n",
    "plt.bar(counts.index,counts/(years.max()-years.min()))\n",
    "\n",
    "total_days = int((df.Datetime.max()-df.Datetime.min())/np.timedelta64(1,'D'))\n",
    "days_w_no_quake = total_days - df.Date.nunique()\n",
    "plt.bar(counts.index, counts/total_days, alpha=0.7)\n",
    "plt.xlim(0,10)\n",
    "plt.show()"
   ]
  },
  {
   "cell_type": "code",
   "execution_count": 25,
   "metadata": {},
   "outputs": [
    {
     "name": "stdout",
     "output_type": "stream",
     "text": [
      "P(Quake > 1, lambda = 1.35) = 74.219 percent\n",
      "P(Quake > 1, lambda = 1) = 63.212 percent\n"
     ]
    }
   ],
   "source": [
    "print('P(Quake > 1, lambda = 1.35) = %3.3f percent' %((1 - pois_cumulative_density(1,tokyo_lamb))*100))\n",
    "print('P(Quake > 1, lambda = 1) = %3.3f percent' %((1 - pois_cumulative_density(1,1))*100))"
   ]
  },
  {
   "cell_type": "markdown",
   "metadata": {},
   "source": [
    "#### Fit\n",
    "\n",
    "The global data is dense enough to sample at linearly spaced points, but this set is more sparse. Optimizing on this set suffers from sampling bias. Lambda ~= 1 visually appears to be a better fit. "
   ]
  },
  {
   "cell_type": "markdown",
   "metadata": {},
   "source": [
    "#### Tokyo Conclusions\n",
    "\n",
    "Using the properties of Poisson distributions, Tokyo has on average **more than 1 large earthquakes per year.** The ancient, coastal city has been built from the ground up with the danger of earthquakes in mind. Traditionally, buildings in Tokyo were made of wood becuase the wood flexes during earthquakes instead of crumbling like bricks or concrete. However, wood building cause other forms of danger. In 1923, a **8.3** magnitude earthquake hit Tokyo. A fire had broken out in one of the wooden buildings and quickly spread throughout the city killing 142,000 people, more than the earthquake itself. ([source](https://historycollection.co/day-history-great-tokyo-fire-devastates-city-1923/))\n",
    "\n",
    "Modern structures in Tokyo use elaborate damping methods to dissapate energy as it travels through the building.\n",
    "\n",
    "![Dampers](damper.jpg)\n",
    "\n",
    "Other solutions completely isolate the building from the ground by sitting on rollers.\n",
    "\n",
    "![Rollers](rollers.jpg)"
   ]
  },
  {
   "cell_type": "code",
   "execution_count": null,
   "metadata": {},
   "outputs": [],
   "source": []
  }
 ],
 "metadata": {
  "kernelspec": {
   "display_name": "Python 3",
   "language": "python",
   "name": "python3"
  },
  "language_info": {
   "codemirror_mode": {
    "name": "ipython",
    "version": 3
   },
   "file_extension": ".py",
   "mimetype": "text/x-python",
   "name": "python",
   "nbconvert_exporter": "python",
   "pygments_lexer": "ipython3",
   "version": "3.7.3"
  }
 },
 "nbformat": 4,
 "nbformat_minor": 2
}
